{
 "cells": [
  {
   "cell_type": "markdown",
   "id": "3f35e6c7-0b4f-4a0a-a313-483f7e59e4da",
   "metadata": {},
   "source": [
    "# <center> Python for Data Analysis</center>"
   ]
  },
  {
   "cell_type": "code",
   "execution_count": 1,
   "id": "b986d760-efed-4cf4-aef3-60e227b88d0d",
   "metadata": {},
   "outputs": [
    {
     "data": {
      "text/html": [
       "<style>\n",
       "td,th {\n",
       "  font-size: 20px\n",
       "}\n",
       "</style>\n"
      ],
      "text/plain": [
       "<IPython.core.display.HTML object>"
      ]
     },
     "metadata": {},
     "output_type": "display_data"
    }
   ],
   "source": [
    "%%HTML\n",
    "<style>\n",
    "td,th {\n",
    "  font-size: 20px\n",
    "}\n",
    "</style>\n"
   ]
  },
  {
   "cell_type": "markdown",
   "id": "811e8de6-b7ba-427b-86cc-0a678f4d5c8a",
   "metadata": {},
   "source": [
    "## <font color=green>Table of Contents</font>\n",
    "- [Quick Introduction to Pandas](#Intro)\n",
    "- [DataFrame and Series](#dfs)  \n",
    "    - [Series](#Series)  \n",
    "    - [DataFrame](#DataFrame)\n",
    "- [Loading Files](#loading)  \n",
    "    - [The NYC flights Dataset](#nyc)\n",
    "- [Getting a quick look at your data](#stat)  \n",
    "- Filtering a DataFrame\n",
    "- Sorting\n",
    "- Selecting Multiple columns\n",
    "- Renaming columns\n",
    "- Rearranging columns\n",
    "- Creating new columns\n",
    "- Grouping in Pandas\n",
    "- The Axis parameter\n",
    "- The Apply Function\n",
    "- Working with Null Values\n",
    "- Reshaping/Pivoting"
   ]
  },
  {
   "cell_type": "markdown",
   "id": "2dda3273-a4e6-42c1-bb54-27fa5a1592bf",
   "metadata": {},
   "source": [
    "# <a id=\"Intro\"> Quick Introduction to PANDAS</a>"
   ]
  },
  {
   "cell_type": "markdown",
   "id": "69c9465c-6e8a-4e1a-9363-d4b030f0fae2",
   "metadata": {},
   "source": [
    " <b>There are many packages for data analysis in Python.  </b>\n",
    " \n",
    " To give some examples:\n",
    " \n",
    "    - Different data analysis packages (Pandas and the up and coming package called Polars)\n",
    "    - Linear Algebra package: Numpy, and you could include tensorflow and pytorch for deep learning.\n",
    "    - Different Visualization packages (Matplotlib, Seaborn, Plotly, Altair, etc).\n",
    "    \n",
    "In this class, we will focus on Pandas and (depending on time) Altair and Seaborn.\n"
   ]
  },
  {
   "cell_type": "markdown",
   "id": "9d336e4e-263a-4393-a0e7-1c0d13a57bb0",
   "metadata": {},
   "source": [
    "## What is Pandas?\n",
    "\n",
    "Pandas was designed to make data analysis practical and easy in Python.  Pandas can be used for data such as:  \n",
    "    - Tabular Data  \n",
    "    - Time-series data  \n",
    "    - Numerical matrices.  \n",
    "\n",
    "In this class, we will be focusing on <b>Pandas version 2</b>, which was released only last year.  The main difference is speed, as it allows for pyarrow support. By default, Numpy is the default backend."
   ]
  },
  {
   "cell_type": "markdown",
   "id": "afc1fc3f-4cdb-483e-be0e-14bfc6517527",
   "metadata": {},
   "source": [
    "Before we can analyze data using Pandas, we need to first import the package. Here is how we do it.  Note the version number. Let's also import numpy and Altair right now."
   ]
  },
  {
   "cell_type": "code",
   "execution_count": 2,
   "id": "9c27d043-b3a9-4fc6-b8b6-d91cbdb1e9de",
   "metadata": {},
   "outputs": [
    {
     "name": "stdout",
     "output_type": "stream",
     "text": [
      "Pandas:2.1.4\n",
      "Altair:5.2.0\n",
      "numpy:1.23.5\n",
      "seaborn:0.12.2\n"
     ]
    }
   ],
   "source": [
    "import pandas as pd\n",
    "import numpy as np\n",
    "import re\n",
    "import altair as alt\n",
    "import seaborn as sns\n",
    "import matplotlib.pyplot as plt\n",
    "import seaborn.objects as so\n",
    "alt.data_transformers.disable_max_rows()\n",
    "import matplotlib.pyplot as plt\n",
    "print(f\"Pandas:{pd.__version__}\")\n",
    "print(f\"Altair:{alt.__version__}\")\n",
    "print(f\"numpy:{np.__version__}\")\n",
    "print(f\"seaborn:{sns.__version__}\")"
   ]
  },
  {
   "cell_type": "markdown",
   "id": "96d2e9a2-5a1c-4331-9daa-8f900650a45a",
   "metadata": {},
   "source": [
    "Here are the library versions we are using (which you can see in the output above)\n",
    " - Pandas:2.1.4\n",
    " - Altair: 5.2.0\n",
    " - Numpy: 1.23.5\n",
    " - Seaborn: 0.12.2"
   ]
  },
  {
   "cell_type": "markdown",
   "id": "dda040af-0834-44b4-888d-1b42bc8c1162",
   "metadata": {},
   "source": [
    "I will show you how to load a csv file using Pandas, but before I show you how to do that, let's discuss the data structures available in Pandas.\n",
    "\n"
   ]
  },
  {
   "cell_type": "markdown",
   "id": "f5d84099-7105-4215-9600-acfc161f2399",
   "metadata": {},
   "source": [
    "# <a id=\"dfs\"> DataFrame and Series </a>\n",
    "\n",
    "There are 2 types main data structures in Pandas: DataFrame and Series.  Let's start with the simplest data structure: Series.  \n",
    "## <a id=\"Series\"> Pandas Series</a>\n",
    "The simplest data structure is called <b>Series</b>.  Think of Series as <b>vector in base R</b>.  How do we create this data structure?\n",
    "\n",
    "We can create a Series data structure using a list, or a tuple.  We can also provide index names (optional) as follows:"
   ]
  },
  {
   "cell_type": "code",
   "execution_count": 3,
   "id": "ee9ea15b-9e24-4fc3-8627-1ac69152ec51",
   "metadata": {},
   "outputs": [],
   "source": [
    "test=pd.Series([1,2,3,4],index=[\"a\",\"b\",\"c\",\"d\"])"
   ]
  },
  {
   "cell_type": "code",
   "execution_count": 4,
   "id": "50fea522-d1a8-4254-9b53-a47537d16d1e",
   "metadata": {},
   "outputs": [
    {
     "data": {
      "text/plain": [
       "pandas.core.series.Series"
      ]
     },
     "execution_count": 4,
     "metadata": {},
     "output_type": "execute_result"
    }
   ],
   "source": [
    "type(test)"
   ]
  },
  {
   "cell_type": "code",
   "execution_count": 5,
   "id": "0b30c061-c74f-41c0-8194-978a797dd49a",
   "metadata": {},
   "outputs": [
    {
     "data": {
      "text/plain": [
       "a    1\n",
       "b    2\n",
       "c    3\n",
       "d    4\n",
       "dtype: int64"
      ]
     },
     "execution_count": 5,
     "metadata": {},
     "output_type": "execute_result"
    }
   ],
   "source": [
    "test"
   ]
  },
  {
   "cell_type": "markdown",
   "id": "50062cb6-f49b-4385-9061-222f732a2249",
   "metadata": {},
   "source": [
    "Not providing index names will <b>automatically</b> create one, starting from zero, as the following example indicates:"
   ]
  },
  {
   "cell_type": "code",
   "execution_count": 6,
   "id": "93606554-9cef-4d13-9c96-49b8976d6760",
   "metadata": {},
   "outputs": [
    {
     "data": {
      "text/plain": [
       "0    1\n",
       "1    2\n",
       "2    3\n",
       "3    4\n",
       "dtype: int64"
      ]
     },
     "execution_count": 6,
     "metadata": {},
     "output_type": "execute_result"
    }
   ],
   "source": [
    "pd.Series([1,2,3,4])"
   ]
  },
  {
   "cell_type": "markdown",
   "id": "54df52c4-d6c7-4d1c-9f94-eae30c74ba6f",
   "metadata": {},
   "source": [
    "The <b> default </b>datatype is <b> int64</b> in the example above, but we can also pass the datatype keyword.  As an example below, we are using int32."
   ]
  },
  {
   "cell_type": "code",
   "execution_count": 7,
   "id": "fdde739e-4d43-4f43-99f1-f248a0ebc07c",
   "metadata": {},
   "outputs": [
    {
     "data": {
      "text/plain": [
       "a    1\n",
       "b    2\n",
       "c    3\n",
       "d    4\n",
       "dtype: int32"
      ]
     },
     "execution_count": 7,
     "metadata": {},
     "output_type": "execute_result"
    }
   ],
   "source": [
    "pd.Series([1,2,3,4],index=[\"a\",\"b\",\"c\",\"d\"],dtype=\"int32\")"
   ]
  },
  {
   "cell_type": "markdown",
   "id": "ea483c5c-5072-47b6-91ef-ee49ec3f0ef3",
   "metadata": {},
   "source": [
    "Here, instead of int64, the data type is int 32. A 64-bit integer can hold a larger number than a 32-bit integer.  So depending on your use-case, you may want to control the data type used.\n",
    "\n",
    "The different data types available in Pandas are:\n",
    "\n",
    "###    1. object\n",
    "###    2. int (int8 to int 64, as well as unsigned integers such as  uint8 to uint64. Unsigned integers are non-negative)\n",
    "###    3. float\n",
    "###    4. bool\n",
    "###    5. timedelta\n",
    "###    6. category "
   ]
  },
  {
   "cell_type": "markdown",
   "id": "d73cb15d-fdc7-468a-81f7-29e7f6b114cf",
   "metadata": {},
   "source": [
    "As I explained above, Series can be instantiated as a <b> Tuple </b>."
   ]
  },
  {
   "cell_type": "code",
   "execution_count": 8,
   "id": "17841d22-811d-4809-9921-ba7d91929330",
   "metadata": {},
   "outputs": [
    {
     "data": {
      "text/plain": [
       "0    1\n",
       "1    2\n",
       "2    3\n",
       "3    4\n",
       "dtype: int64"
      ]
     },
     "execution_count": 8,
     "metadata": {},
     "output_type": "execute_result"
    }
   ],
   "source": [
    "pd.Series((1,2,3,4))"
   ]
  },
  {
   "cell_type": "markdown",
   "id": "36c54214-0568-4318-a601-a35833432c06",
   "metadata": {},
   "source": [
    "A Series can also be instantiated using a dictionary or numpy.  \n",
    "\n",
    "Here, I have generated a Series by using <b> Dictionary </b>. The Dictionary <b> Key </b> is the index, while the <b> Value </b> is the actual value."
   ]
  },
  {
   "cell_type": "code",
   "execution_count": 9,
   "id": "aced985c-b067-44d9-a3ec-9d28cd2a5bda",
   "metadata": {},
   "outputs": [
    {
     "data": {
      "text/plain": [
       "a    1\n",
       "b    2\n",
       "c    3\n",
       "d    4\n",
       "dtype: int64"
      ]
     },
     "execution_count": 9,
     "metadata": {},
     "output_type": "execute_result"
    }
   ],
   "source": [
    "pd.Series({\"a\":1,\"b\":2,\"c\":3,\"d\":4})"
   ]
  },
  {
   "cell_type": "markdown",
   "id": "d0ee30fa-b736-4d66-a098-9ca347e6e9b5",
   "metadata": {},
   "source": [
    "Here, I am instantiating a Series by using a <b> numpy </b> array."
   ]
  },
  {
   "cell_type": "code",
   "execution_count": 10,
   "id": "dc42c15a-492e-47dd-9914-3bd3d2eb0528",
   "metadata": {},
   "outputs": [
    {
     "data": {
      "text/plain": [
       "a    1\n",
       "b    2\n",
       "c    3\n",
       "d    4\n",
       "dtype: int32"
      ]
     },
     "execution_count": 10,
     "metadata": {},
     "output_type": "execute_result"
    }
   ],
   "source": [
    "pd.Series(np.array([1,2,3,4]),index=[\"a\",\"b\",\"c\",\"d\"])"
   ]
  },
  {
   "cell_type": "markdown",
   "id": "623cf8e1-5f21-4580-8bc7-dd7b9de0a83b",
   "metadata": {},
   "source": [
    "Now let's go back to our <b>test</b> example.  To remind you, we stored a Series in the variable test."
   ]
  },
  {
   "cell_type": "code",
   "execution_count": 11,
   "id": "b75fb362-602d-4665-b6c6-eb1b9d0f6508",
   "metadata": {},
   "outputs": [],
   "source": [
    "test=pd.Series([1,2,3,4],index=[\"a\",\"b\",\"c\",\"d\"])"
   ]
  },
  {
   "cell_type": "markdown",
   "id": "33e89510-cf6e-4bf3-a156-ed5811426bdf",
   "metadata": {},
   "source": [
    "How can we convert Pandas <b> Series </b> to <b> Numpy </b>.  The method we use is called <b> to_numpy() </b>."
   ]
  },
  {
   "cell_type": "code",
   "execution_count": 12,
   "id": "59d55c61-d0c7-41b9-a8ef-1bab58ec55e4",
   "metadata": {},
   "outputs": [
    {
     "data": {
      "text/plain": [
       "array([1, 2, 3, 4], dtype=int64)"
      ]
     },
     "execution_count": 12,
     "metadata": {},
     "output_type": "execute_result"
    }
   ],
   "source": [
    "test.to_numpy()"
   ]
  },
  {
   "cell_type": "markdown",
   "id": "ce59aa33-4ae5-4aef-b17c-e04ed76482fe",
   "metadata": {},
   "source": [
    "Similarly, <b> to_list </b> can be used to convert a Pandas <b> Series</b> to a <b>list</b>."
   ]
  },
  {
   "cell_type": "code",
   "execution_count": 13,
   "id": "b9016ed3-d600-4737-8a82-7e76e655cf4c",
   "metadata": {},
   "outputs": [
    {
     "data": {
      "text/plain": [
       "[1, 2, 3, 4]"
      ]
     },
     "execution_count": 13,
     "metadata": {},
     "output_type": "execute_result"
    }
   ],
   "source": [
    "test.to_list()"
   ]
  },
  {
   "cell_type": "markdown",
   "id": "f2a9ca6d-1d38-4546-a287-ffedaf0b1290",
   "metadata": {},
   "source": [
    "The <b> list()</b> function works just fine as well."
   ]
  },
  {
   "cell_type": "code",
   "execution_count": 14,
   "id": "e69850a0-f059-4f4d-9831-3112555ca969",
   "metadata": {},
   "outputs": [
    {
     "data": {
      "text/plain": [
       "[1, 2, 3, 4]"
      ]
     },
     "execution_count": 14,
     "metadata": {},
     "output_type": "execute_result"
    }
   ],
   "source": [
    "list(test)"
   ]
  },
  {
   "cell_type": "markdown",
   "id": "e759f2e3-469d-4d79-937d-0025c36e03b7",
   "metadata": {},
   "source": [
    "And as you can imagine already, the Pandas <b>Series</b> can be converted to a <b> Dictionary </b>"
   ]
  },
  {
   "cell_type": "code",
   "execution_count": 15,
   "id": "9fd16774-0e88-4816-82f3-b462de9222f1",
   "metadata": {},
   "outputs": [
    {
     "data": {
      "text/plain": [
       "{'a': 1, 'b': 2, 'c': 3, 'd': 4}"
      ]
     },
     "execution_count": 15,
     "metadata": {},
     "output_type": "execute_result"
    }
   ],
   "source": [
    "test.to_dict()"
   ]
  },
  {
   "cell_type": "markdown",
   "id": "3dd679fd-347f-4a40-a0a8-c1168341acdd",
   "metadata": {},
   "source": [
    "A <b> to_tuple() method does not exist</b>, but you can first convert to a list, and then to tuple as follows."
   ]
  },
  {
   "cell_type": "code",
   "execution_count": 16,
   "id": "db469489-5d40-46e9-a362-93052d906c95",
   "metadata": {},
   "outputs": [
    {
     "data": {
      "text/plain": [
       "(1, 2, 3, 4)"
      ]
     },
     "execution_count": 16,
     "metadata": {},
     "output_type": "execute_result"
    }
   ],
   "source": [
    "tuple(test.to_list())"
   ]
  },
  {
   "cell_type": "markdown",
   "id": "49b343c6-16e1-445c-9499-96d6b5dda863",
   "metadata": {},
   "source": [
    "You can access values in your Series by using the index name."
   ]
  },
  {
   "cell_type": "code",
   "execution_count": 17,
   "id": "097b8b5e-7ce5-47be-b034-e05594619ff5",
   "metadata": {},
   "outputs": [
    {
     "data": {
      "text/plain": [
       "1"
      ]
     },
     "execution_count": 17,
     "metadata": {},
     "output_type": "execute_result"
    }
   ],
   "source": [
    "test['a']"
   ]
  },
  {
   "cell_type": "code",
   "execution_count": 18,
   "id": "93098e0f-c741-4b15-873d-33fd64f2c67b",
   "metadata": {},
   "outputs": [
    {
     "data": {
      "text/plain": [
       "3"
      ]
     },
     "execution_count": 18,
     "metadata": {},
     "output_type": "execute_result"
    }
   ],
   "source": [
    "test['c']"
   ]
  },
  {
   "cell_type": "markdown",
   "id": "be7a1271-1e8a-4776-a524-2b3b204eacd7",
   "metadata": {},
   "source": [
    "## <a id=\"DataFrame\">  Pandas DataFrame  </a>\n",
    "A Pandas DataFrame is similar to <b> data frames </b> or <b> tibbles</b> in R.  It is used for working with data in tabular format.  A dataframe can be created from a numpy array, lists, dictionaries, Pandas series, etc as the examples below show.\n",
    "\n",
    "In this example, I am using a DataFrame.  The column names are the <b> keys</b>, and the <b> values</b> are passed as lists.\n",
    "\n",
    "First, let's create a Dictionary."
   ]
  },
  {
   "cell_type": "code",
   "execution_count": 19,
   "id": "dabced2f-9b13-4c00-b6ea-b7c3d2e935dc",
   "metadata": {},
   "outputs": [],
   "source": [
    "a={\"one\":pd.Series([1,2,3,4,5],['a','b','c','d','e']),\n",
    "   \"two\":pd.Series([9,8,7,6,5],['a','b','c','d','e'])}"
   ]
  },
  {
   "cell_type": "markdown",
   "id": "3c467992-53d2-4f79-a30b-9ab65c84023a",
   "metadata": {},
   "source": [
    "Next, we create a Pandas <b> DataFrame </b> by using the DataFrame() method."
   ]
  },
  {
   "cell_type": "code",
   "execution_count": 20,
   "id": "88bdb695-329f-4b19-8239-59d71bbfd7de",
   "metadata": {},
   "outputs": [],
   "source": [
    "a_df=pd.DataFrame(a)"
   ]
  },
  {
   "cell_type": "markdown",
   "id": "dc767521-f9fa-45d0-b71c-ab704cfbdb8c",
   "metadata": {},
   "source": [
    "The <b> head() </b> method can be used for looking at the top 5 rows.  Note that the header is also printed."
   ]
  },
  {
   "cell_type": "code",
   "execution_count": 21,
   "id": "15210109-3947-4e6d-aa46-90781f248b81",
   "metadata": {},
   "outputs": [
    {
     "data": {
      "text/html": [
       "<div>\n",
       "<style scoped>\n",
       "    .dataframe tbody tr th:only-of-type {\n",
       "        vertical-align: middle;\n",
       "    }\n",
       "\n",
       "    .dataframe tbody tr th {\n",
       "        vertical-align: top;\n",
       "    }\n",
       "\n",
       "    .dataframe thead th {\n",
       "        text-align: right;\n",
       "    }\n",
       "</style>\n",
       "<table border=\"1\" class=\"dataframe\">\n",
       "  <thead>\n",
       "    <tr style=\"text-align: right;\">\n",
       "      <th></th>\n",
       "      <th>one</th>\n",
       "      <th>two</th>\n",
       "    </tr>\n",
       "  </thead>\n",
       "  <tbody>\n",
       "    <tr>\n",
       "      <th>a</th>\n",
       "      <td>1</td>\n",
       "      <td>9</td>\n",
       "    </tr>\n",
       "    <tr>\n",
       "      <th>b</th>\n",
       "      <td>2</td>\n",
       "      <td>8</td>\n",
       "    </tr>\n",
       "    <tr>\n",
       "      <th>c</th>\n",
       "      <td>3</td>\n",
       "      <td>7</td>\n",
       "    </tr>\n",
       "    <tr>\n",
       "      <th>d</th>\n",
       "      <td>4</td>\n",
       "      <td>6</td>\n",
       "    </tr>\n",
       "    <tr>\n",
       "      <th>e</th>\n",
       "      <td>5</td>\n",
       "      <td>5</td>\n",
       "    </tr>\n",
       "  </tbody>\n",
       "</table>\n",
       "</div>"
      ],
      "text/plain": [
       "   one  two\n",
       "a    1    9\n",
       "b    2    8\n",
       "c    3    7\n",
       "d    4    6\n",
       "e    5    5"
      ]
     },
     "execution_count": 21,
     "metadata": {},
     "output_type": "execute_result"
    }
   ],
   "source": [
    "a_df.head()"
   ]
  },
  {
   "cell_type": "markdown",
   "id": "68d85b86-80b4-4bc6-8196-ff2e1fff012b",
   "metadata": {},
   "source": [
    "Similarly, the <b> tail() </b> method can be used for looking at the bottom 5 rows (by default)"
   ]
  },
  {
   "cell_type": "code",
   "execution_count": 22,
   "id": "04462aee-492b-4b7a-a265-47eec29aa206",
   "metadata": {},
   "outputs": [
    {
     "data": {
      "text/html": [
       "<div>\n",
       "<style scoped>\n",
       "    .dataframe tbody tr th:only-of-type {\n",
       "        vertical-align: middle;\n",
       "    }\n",
       "\n",
       "    .dataframe tbody tr th {\n",
       "        vertical-align: top;\n",
       "    }\n",
       "\n",
       "    .dataframe thead th {\n",
       "        text-align: right;\n",
       "    }\n",
       "</style>\n",
       "<table border=\"1\" class=\"dataframe\">\n",
       "  <thead>\n",
       "    <tr style=\"text-align: right;\">\n",
       "      <th></th>\n",
       "      <th>one</th>\n",
       "      <th>two</th>\n",
       "    </tr>\n",
       "  </thead>\n",
       "  <tbody>\n",
       "    <tr>\n",
       "      <th>a</th>\n",
       "      <td>1</td>\n",
       "      <td>9</td>\n",
       "    </tr>\n",
       "    <tr>\n",
       "      <th>b</th>\n",
       "      <td>2</td>\n",
       "      <td>8</td>\n",
       "    </tr>\n",
       "    <tr>\n",
       "      <th>c</th>\n",
       "      <td>3</td>\n",
       "      <td>7</td>\n",
       "    </tr>\n",
       "    <tr>\n",
       "      <th>d</th>\n",
       "      <td>4</td>\n",
       "      <td>6</td>\n",
       "    </tr>\n",
       "    <tr>\n",
       "      <th>e</th>\n",
       "      <td>5</td>\n",
       "      <td>5</td>\n",
       "    </tr>\n",
       "  </tbody>\n",
       "</table>\n",
       "</div>"
      ],
      "text/plain": [
       "   one  two\n",
       "a    1    9\n",
       "b    2    8\n",
       "c    3    7\n",
       "d    4    6\n",
       "e    5    5"
      ]
     },
     "execution_count": 22,
     "metadata": {},
     "output_type": "execute_result"
    }
   ],
   "source": [
    "a_df.tail()"
   ]
  },
  {
   "cell_type": "markdown",
   "id": "d708bf7d-78a9-4b94-af57-fd4fe7d0754e",
   "metadata": {},
   "source": [
    "Note that by passing a number within head or tail, you can control the number of rows to show.  In the example below, we show only 2 rows."
   ]
  },
  {
   "cell_type": "code",
   "execution_count": 23,
   "id": "d330ceda-7122-4ac1-a899-f9ecccfad94e",
   "metadata": {},
   "outputs": [
    {
     "data": {
      "text/html": [
       "<div>\n",
       "<style scoped>\n",
       "    .dataframe tbody tr th:only-of-type {\n",
       "        vertical-align: middle;\n",
       "    }\n",
       "\n",
       "    .dataframe tbody tr th {\n",
       "        vertical-align: top;\n",
       "    }\n",
       "\n",
       "    .dataframe thead th {\n",
       "        text-align: right;\n",
       "    }\n",
       "</style>\n",
       "<table border=\"1\" class=\"dataframe\">\n",
       "  <thead>\n",
       "    <tr style=\"text-align: right;\">\n",
       "      <th></th>\n",
       "      <th>one</th>\n",
       "      <th>two</th>\n",
       "    </tr>\n",
       "  </thead>\n",
       "  <tbody>\n",
       "    <tr>\n",
       "      <th>a</th>\n",
       "      <td>1</td>\n",
       "      <td>9</td>\n",
       "    </tr>\n",
       "    <tr>\n",
       "      <th>b</th>\n",
       "      <td>2</td>\n",
       "      <td>8</td>\n",
       "    </tr>\n",
       "  </tbody>\n",
       "</table>\n",
       "</div>"
      ],
      "text/plain": [
       "   one  two\n",
       "a    1    9\n",
       "b    2    8"
      ]
     },
     "execution_count": 23,
     "metadata": {},
     "output_type": "execute_result"
    }
   ],
   "source": [
    "a_df.head(2)"
   ]
  },
  {
   "cell_type": "markdown",
   "id": "b26c65c4-4589-4e05-ba58-3a0717f73e55",
   "metadata": {},
   "source": [
    "In the example below, instead of a Pandas Series, we are passing the <b> List </b> data structure."
   ]
  },
  {
   "cell_type": "code",
   "execution_count": 24,
   "id": "5d34eb0b-2e54-4571-bfd0-a02f49fc90bb",
   "metadata": {},
   "outputs": [],
   "source": [
    "a={\"one\":[1,2,3,4,5],\n",
    "   \"two\":[9,8,7,6,5]}"
   ]
  },
  {
   "cell_type": "markdown",
   "id": "566abd84-8713-4161-bf16-109ee3a6c153",
   "metadata": {},
   "source": [
    "We can then specify index labels when creating a <b> Pandas DataFrame</b> by using the index keyword.\n",
    "\n",
    "The <b> Index labels </b> are likes rownames in R's dataframe."
   ]
  },
  {
   "cell_type": "code",
   "execution_count": 25,
   "id": "b17d10d6-3aca-4916-88e4-fd3fa0ff42ed",
   "metadata": {},
   "outputs": [
    {
     "data": {
      "text/html": [
       "<div>\n",
       "<style scoped>\n",
       "    .dataframe tbody tr th:only-of-type {\n",
       "        vertical-align: middle;\n",
       "    }\n",
       "\n",
       "    .dataframe tbody tr th {\n",
       "        vertical-align: top;\n",
       "    }\n",
       "\n",
       "    .dataframe thead th {\n",
       "        text-align: right;\n",
       "    }\n",
       "</style>\n",
       "<table border=\"1\" class=\"dataframe\">\n",
       "  <thead>\n",
       "    <tr style=\"text-align: right;\">\n",
       "      <th></th>\n",
       "      <th>one</th>\n",
       "      <th>two</th>\n",
       "    </tr>\n",
       "  </thead>\n",
       "  <tbody>\n",
       "    <tr>\n",
       "      <th>a</th>\n",
       "      <td>1</td>\n",
       "      <td>9</td>\n",
       "    </tr>\n",
       "    <tr>\n",
       "      <th>b</th>\n",
       "      <td>2</td>\n",
       "      <td>8</td>\n",
       "    </tr>\n",
       "    <tr>\n",
       "      <th>c</th>\n",
       "      <td>3</td>\n",
       "      <td>7</td>\n",
       "    </tr>\n",
       "    <tr>\n",
       "      <th>d</th>\n",
       "      <td>4</td>\n",
       "      <td>6</td>\n",
       "    </tr>\n",
       "    <tr>\n",
       "      <th>e</th>\n",
       "      <td>5</td>\n",
       "      <td>5</td>\n",
       "    </tr>\n",
       "  </tbody>\n",
       "</table>\n",
       "</div>"
      ],
      "text/plain": [
       "   one  two\n",
       "a    1    9\n",
       "b    2    8\n",
       "c    3    7\n",
       "d    4    6\n",
       "e    5    5"
      ]
     },
     "execution_count": 25,
     "metadata": {},
     "output_type": "execute_result"
    }
   ],
   "source": [
    "pd.DataFrame(a,index=['a','b','c','d','e'])"
   ]
  },
  {
   "cell_type": "markdown",
   "id": "3417e416-0a9e-468f-bcd9-e19b1095a27e",
   "metadata": {},
   "source": [
    "In this example, I am passing a <b> list </b> of <b> Dictionaries </b>.  And again, the <b> keys</b> are the column names."
   ]
  },
  {
   "cell_type": "code",
   "execution_count": 26,
   "id": "2faf1cf3-2708-418a-a880-c27c570e2542",
   "metadata": {},
   "outputs": [],
   "source": [
    "a=[{\"one\":1,\"two\":9},{\"one\":2,\"two\":8},{\"one\":3,\"two\":7},{\"one\":4,\"two\":6},{\"one\":5,\"two\":5}]"
   ]
  },
  {
   "cell_type": "code",
   "execution_count": 27,
   "id": "e6f1185d-16d9-49b3-b69b-a2f8ac088320",
   "metadata": {},
   "outputs": [
    {
     "data": {
      "text/html": [
       "<div>\n",
       "<style scoped>\n",
       "    .dataframe tbody tr th:only-of-type {\n",
       "        vertical-align: middle;\n",
       "    }\n",
       "\n",
       "    .dataframe tbody tr th {\n",
       "        vertical-align: top;\n",
       "    }\n",
       "\n",
       "    .dataframe thead th {\n",
       "        text-align: right;\n",
       "    }\n",
       "</style>\n",
       "<table border=\"1\" class=\"dataframe\">\n",
       "  <thead>\n",
       "    <tr style=\"text-align: right;\">\n",
       "      <th></th>\n",
       "      <th>one</th>\n",
       "      <th>two</th>\n",
       "    </tr>\n",
       "  </thead>\n",
       "  <tbody>\n",
       "    <tr>\n",
       "      <th>a</th>\n",
       "      <td>1</td>\n",
       "      <td>9</td>\n",
       "    </tr>\n",
       "    <tr>\n",
       "      <th>b</th>\n",
       "      <td>2</td>\n",
       "      <td>8</td>\n",
       "    </tr>\n",
       "    <tr>\n",
       "      <th>c</th>\n",
       "      <td>3</td>\n",
       "      <td>7</td>\n",
       "    </tr>\n",
       "    <tr>\n",
       "      <th>d</th>\n",
       "      <td>4</td>\n",
       "      <td>6</td>\n",
       "    </tr>\n",
       "    <tr>\n",
       "      <th>e</th>\n",
       "      <td>5</td>\n",
       "      <td>5</td>\n",
       "    </tr>\n",
       "  </tbody>\n",
       "</table>\n",
       "</div>"
      ],
      "text/plain": [
       "   one  two\n",
       "a    1    9\n",
       "b    2    8\n",
       "c    3    7\n",
       "d    4    6\n",
       "e    5    5"
      ]
     },
     "execution_count": 27,
     "metadata": {},
     "output_type": "execute_result"
    }
   ],
   "source": [
    "pd.DataFrame(a,index=['a','b','c','d','e'])"
   ]
  },
  {
   "cell_type": "markdown",
   "id": "5dc7a17e-905b-4ccb-a019-f60c643852d0",
   "metadata": {},
   "source": [
    "You can also convert a Series to a Pandas DataFrame <b> Directly </b>.  Here, we are not using a dictionary of any kind."
   ]
  },
  {
   "cell_type": "code",
   "execution_count": 28,
   "id": "440f39c2-71be-4068-b22c-223f49aa2580",
   "metadata": {},
   "outputs": [],
   "source": [
    "a=pd.Series([1,2,3,4,5],name=\"one\")"
   ]
  },
  {
   "cell_type": "code",
   "execution_count": 29,
   "id": "23c41ef0-9065-416c-b259-5a36b4f5d7e5",
   "metadata": {},
   "outputs": [
    {
     "data": {
      "text/plain": [
       "0    1\n",
       "1    2\n",
       "2    3\n",
       "3    4\n",
       "4    5\n",
       "Name: one, dtype: int64"
      ]
     },
     "execution_count": 29,
     "metadata": {},
     "output_type": "execute_result"
    }
   ],
   "source": [
    "a"
   ]
  },
  {
   "cell_type": "markdown",
   "id": "b9cf1e96-b2c6-40d8-9a18-730ca1122bba",
   "metadata": {},
   "source": [
    "The Series above has a name associated with it (one).  When you convert the Series to a DataFrame, the <b> column name<b> of the DataFrame  is the <b>Series name</b>."
   ]
  },
  {
   "cell_type": "code",
   "execution_count": 30,
   "id": "5b5bcb69-ffe1-42a9-ae7f-9f7355724778",
   "metadata": {},
   "outputs": [
    {
     "data": {
      "text/html": [
       "<div>\n",
       "<style scoped>\n",
       "    .dataframe tbody tr th:only-of-type {\n",
       "        vertical-align: middle;\n",
       "    }\n",
       "\n",
       "    .dataframe tbody tr th {\n",
       "        vertical-align: top;\n",
       "    }\n",
       "\n",
       "    .dataframe thead th {\n",
       "        text-align: right;\n",
       "    }\n",
       "</style>\n",
       "<table border=\"1\" class=\"dataframe\">\n",
       "  <thead>\n",
       "    <tr style=\"text-align: right;\">\n",
       "      <th></th>\n",
       "      <th>one</th>\n",
       "    </tr>\n",
       "  </thead>\n",
       "  <tbody>\n",
       "    <tr>\n",
       "      <th>0</th>\n",
       "      <td>1</td>\n",
       "    </tr>\n",
       "    <tr>\n",
       "      <th>1</th>\n",
       "      <td>2</td>\n",
       "    </tr>\n",
       "    <tr>\n",
       "      <th>2</th>\n",
       "      <td>3</td>\n",
       "    </tr>\n",
       "    <tr>\n",
       "      <th>3</th>\n",
       "      <td>4</td>\n",
       "    </tr>\n",
       "    <tr>\n",
       "      <th>4</th>\n",
       "      <td>5</td>\n",
       "    </tr>\n",
       "  </tbody>\n",
       "</table>\n",
       "</div>"
      ],
      "text/plain": [
       "   one\n",
       "0    1\n",
       "1    2\n",
       "2    3\n",
       "3    4\n",
       "4    5"
      ]
     },
     "execution_count": 30,
     "metadata": {},
     "output_type": "execute_result"
    }
   ],
   "source": [
    "pd.DataFrame(a)"
   ]
  },
  {
   "cell_type": "markdown",
   "id": "04d6c06f-012c-44fe-9c2d-bfa1ef6dd940",
   "metadata": {},
   "source": [
    "# <a id=\"loading\"> Loading/Writing files in pandas </a>"
   ]
  },
  {
   "cell_type": "markdown",
   "id": "7e59b1bd-4ed6-4ebd-827f-2ecc030b5472",
   "metadata": {},
   "source": [
    "There are many different filetypes that Pandas can read.  \n",
    "As an example, the <b> read_csv() </b> function can be used to quickly load csv files. Other filetypes can be loaded as well, but here we will be working on csv. We are going to use a dataset called \"mpg\", which is actually part of the ggplot2 library.\n",
    "\n",
    "Anyway, here are some of the different filetypes that are supported in Pandas."
   ]
  },
  {
   "cell_type": "markdown",
   "id": "46703e07",
   "metadata": {},
   "source": [
    "|  Type | Description | Reader | Writer |\n",
    "| :---: | :---: | :---: | :---: |\n",
    "|Text|CSV|read_csv|to_csv|\n",
    "|Text|fixed-width text file|read_fwf|NA|\n",
    "|text|JSON|read_json|to_json|\n",
    "|text|HTML|read_html|to_html|\n",
    "|text|Latex|NA|Styler.to_latex|\n",
    "|text|XML|read_xml|to_xml|\n",
    "|text|Local ClipBoard|read_clipboard|to_clipboard|\n",
    "|binary|MS Excel|read_excel|to_excel|\n",
    "|binary|OpenDocument|read_excel|NA|\n",
    "|binary|HDF5 Format|read_HDF|to_hdf|\n",
    "|binary|Feather Format|read_feather|to_feather|\n",
    "|binary|Parquet Format|read_parqet|to_parquet|\n",
    "|binary|ORC Format|read_orc|to_orc|\n",
    "|binary|Stata|read_stata|to_stata|\n",
    "|binary|SAS|read_sas|NA|\n",
    "|binary|SPSS|read_spss|NA|\n",
    "|binary|Python Pickle Format|read_pickle|to_pickle|\n",
    "|SQL|SQL|read_sql|to_sql|\n",
    "|SQL|Google BigQuery|read gbq|to_gbq|"
   ]
  },
  {
   "cell_type": "markdown",
   "id": "fe6d523d-a53f-4fa1-8e8e-608008faa948",
   "metadata": {},
   "source": [
    "## <a id=\"nyc\"> Loading The NYC Flights 2013 dataset</a>"
   ]
  },
  {
   "cell_type": "code",
   "execution_count": 31,
   "id": "ab490911-63b7-46b0-a625-34ad35b0f025",
   "metadata": {},
   "outputs": [],
   "source": [
    "#flights=pd.read_csv(\"flights.csv\")\n",
    "#flights.to_csv(\"flights.csv.gz\",compression=\"gzip\")"
   ]
  },
  {
   "cell_type": "markdown",
   "id": "73ceecb3-6e9e-4527-b66d-c4b6c9b98bc2",
   "metadata": {},
   "source": [
    "The \"flights\" dataset is part of the tidyverse package. It can be found below.  \n",
    "https://github.com/tidyverse/nycflights13?tab=readme-ov-file\n",
    "\n",
    "The \"flights\" dataset has been uploaded to <b> Github </b>. As you can see from the commented lines above, the original data is uncompressed.  \n",
    "I then used the <b>to_csv </b> method to save it as compressed.  \n",
    "Anyway, let's load it. "
   ]
  },
  {
   "cell_type": "code",
   "execution_count": 32,
   "id": "e48f76c6-9a8e-4ced-85bd-e63955070d05",
   "metadata": {},
   "outputs": [],
   "source": [
    "flights=pd.read_csv(\"https://github.com/niradsp/Python-for-Data-Analysis/raw/main/flights.csv.gz\",compression=\"gzip\",index_col=0)"
   ]
  },
  {
   "cell_type": "markdown",
   "id": "e31c0a3d-0e74-4bf0-9688-839cfbf23bee",
   "metadata": {},
   "source": [
    "This is a <b> compressed csv </b> (comma separated) file.  \n",
    "The first thing you notice is that Pandas allows you to <b> read directly from the web.</b> \n",
    "In the above example, I read from my github page.  The flights dataset is a big file (~25 MB in total) when unzipped.\n",
    "So I saved it as compressed.  You can read the gzipped file if you use the compression=\"gzip\" parameter.\n",
    "\n",
    "Some other parameters that can be changed are:  \n",
    "- <b> sep</b>:  The separator used.\n",
    "- <b> header </b>:  Row Number of Header.\n",
    "- <b> skiprow </b>:  Number of lines to skip\n",
    "- <b> nrows </b>: Number of lines to read.\n",
    "\n",
    "<b> And many more </b>\n",
    "\n",
    "You can just go to the documentation below to know about the different parameters you can control.  \n",
    "https://pandas.pydata.org/pandas-docs/stable/reference/api/pandas.read_csv.html\n"
   ]
  },
  {
   "cell_type": "markdown",
   "id": "888dde86-0b60-4979-bb4d-164b1e08f0d2",
   "metadata": {},
   "source": [
    "We will shart by looking at the dimension of the flights object, along with a quick glance at what the data looks like.\n",
    "\n",
    "This is handled by the <b> shape </b> attribute."
   ]
  },
  {
   "cell_type": "code",
   "execution_count": 33,
   "id": "f9324ddb-1949-4df6-a1d7-b83676b34015",
   "metadata": {},
   "outputs": [
    {
     "data": {
      "text/plain": [
       "(336776, 19)"
      ]
     },
     "execution_count": 33,
     "metadata": {},
     "output_type": "execute_result"
    }
   ],
   "source": [
    "flights.shape"
   ]
  },
  {
   "cell_type": "markdown",
   "id": "8c747a3e-2fed-48ee-a4fa-526179785def",
   "metadata": {},
   "source": [
    "There are 336,776 rows of data, along with 19 columns."
   ]
  },
  {
   "cell_type": "code",
   "execution_count": 34,
   "id": "1704186e-cfa7-4835-901e-d93d4465958a",
   "metadata": {},
   "outputs": [
    {
     "data": {
      "text/html": [
       "<div>\n",
       "<style scoped>\n",
       "    .dataframe tbody tr th:only-of-type {\n",
       "        vertical-align: middle;\n",
       "    }\n",
       "\n",
       "    .dataframe tbody tr th {\n",
       "        vertical-align: top;\n",
       "    }\n",
       "\n",
       "    .dataframe thead th {\n",
       "        text-align: right;\n",
       "    }\n",
       "</style>\n",
       "<table border=\"1\" class=\"dataframe\">\n",
       "  <thead>\n",
       "    <tr style=\"text-align: right;\">\n",
       "      <th></th>\n",
       "      <th>year</th>\n",
       "      <th>month</th>\n",
       "      <th>day</th>\n",
       "      <th>dep_time</th>\n",
       "      <th>sched_dep_time</th>\n",
       "      <th>dep_delay</th>\n",
       "      <th>arr_time</th>\n",
       "      <th>sched_arr_time</th>\n",
       "      <th>arr_delay</th>\n",
       "      <th>carrier</th>\n",
       "      <th>flight</th>\n",
       "      <th>tailnum</th>\n",
       "      <th>origin</th>\n",
       "      <th>dest</th>\n",
       "      <th>air_time</th>\n",
       "      <th>distance</th>\n",
       "      <th>hour</th>\n",
       "      <th>minute</th>\n",
       "      <th>time_hour</th>\n",
       "    </tr>\n",
       "  </thead>\n",
       "  <tbody>\n",
       "    <tr>\n",
       "      <th>0</th>\n",
       "      <td>2013</td>\n",
       "      <td>1</td>\n",
       "      <td>1</td>\n",
       "      <td>517.0</td>\n",
       "      <td>515</td>\n",
       "      <td>2.0</td>\n",
       "      <td>830.0</td>\n",
       "      <td>819</td>\n",
       "      <td>11.0</td>\n",
       "      <td>UA</td>\n",
       "      <td>1545</td>\n",
       "      <td>N14228</td>\n",
       "      <td>EWR</td>\n",
       "      <td>IAH</td>\n",
       "      <td>227.0</td>\n",
       "      <td>1400</td>\n",
       "      <td>5</td>\n",
       "      <td>15</td>\n",
       "      <td>1/1/2013 5:00</td>\n",
       "    </tr>\n",
       "    <tr>\n",
       "      <th>1</th>\n",
       "      <td>2013</td>\n",
       "      <td>1</td>\n",
       "      <td>1</td>\n",
       "      <td>533.0</td>\n",
       "      <td>529</td>\n",
       "      <td>4.0</td>\n",
       "      <td>850.0</td>\n",
       "      <td>830</td>\n",
       "      <td>20.0</td>\n",
       "      <td>UA</td>\n",
       "      <td>1714</td>\n",
       "      <td>N24211</td>\n",
       "      <td>LGA</td>\n",
       "      <td>IAH</td>\n",
       "      <td>227.0</td>\n",
       "      <td>1416</td>\n",
       "      <td>5</td>\n",
       "      <td>29</td>\n",
       "      <td>1/1/2013 5:00</td>\n",
       "    </tr>\n",
       "    <tr>\n",
       "      <th>2</th>\n",
       "      <td>2013</td>\n",
       "      <td>1</td>\n",
       "      <td>1</td>\n",
       "      <td>542.0</td>\n",
       "      <td>540</td>\n",
       "      <td>2.0</td>\n",
       "      <td>923.0</td>\n",
       "      <td>850</td>\n",
       "      <td>33.0</td>\n",
       "      <td>AA</td>\n",
       "      <td>1141</td>\n",
       "      <td>N619AA</td>\n",
       "      <td>JFK</td>\n",
       "      <td>MIA</td>\n",
       "      <td>160.0</td>\n",
       "      <td>1089</td>\n",
       "      <td>5</td>\n",
       "      <td>40</td>\n",
       "      <td>1/1/2013 5:00</td>\n",
       "    </tr>\n",
       "  </tbody>\n",
       "</table>\n",
       "</div>"
      ],
      "text/plain": [
       "   year  month  day  dep_time  sched_dep_time  dep_delay  arr_time  \\\n",
       "0  2013      1    1     517.0             515        2.0     830.0   \n",
       "1  2013      1    1     533.0             529        4.0     850.0   \n",
       "2  2013      1    1     542.0             540        2.0     923.0   \n",
       "\n",
       "   sched_arr_time  arr_delay carrier  flight tailnum origin dest  air_time  \\\n",
       "0             819       11.0      UA    1545  N14228    EWR  IAH     227.0   \n",
       "1             830       20.0      UA    1714  N24211    LGA  IAH     227.0   \n",
       "2             850       33.0      AA    1141  N619AA    JFK  MIA     160.0   \n",
       "\n",
       "   distance  hour  minute      time_hour  \n",
       "0      1400     5      15  1/1/2013 5:00  \n",
       "1      1416     5      29  1/1/2013 5:00  \n",
       "2      1089     5      40  1/1/2013 5:00  "
      ]
     },
     "execution_count": 34,
     "metadata": {},
     "output_type": "execute_result"
    }
   ],
   "source": [
    "flights.head(3)"
   ]
  },
  {
   "cell_type": "markdown",
   "id": "c01f0be0-91dc-4901-bc91-2436984e3933",
   "metadata": {},
   "source": [
    "The  <b> columns</b>  are: \n",
    "- year: Year of flight.  In this case, it is 2013.\n",
    "- month: Month of flight\n",
    "- Day:  Departure day\n",
    "- Dep_time,Arr_time:  Departure Time and Arrival Time (format=HHMM or HMM) in local timezone.\n",
    "- Sched_arr_time and Sched_dep_time:  Sheduled arrival and departure times.\n",
    "- Carrier:  2-letter Carrier abbreviation (for example, UA=United Airlines)  \n",
    "- flight:  Flight number\n",
    "- tailnum:  Plane tailnumber.\n",
    "- orig, des:  Origin and Destination. For example, JFK would be John F Kennedy in New York.\n",
    "- air_time:  Time spent in the air, in minutes.\n",
    "- distance:  Distance between airports, given in miles.\n",
    "- hour, minute: Departure time broken into hour and minute.\n",
    "- time_hour:  Scheduled Date and Hour of the flight."
   ]
  },
  {
   "cell_type": "markdown",
   "id": "56fbc2a8-0242-4d90-b818-439260dd6621",
   "metadata": {},
   "source": [
    "# <a id=\"stat\">Getting a quick look at your data</a>\n",
    "\n",
    "You can use the <b> info </b> metho to see if there are any null values in your dataframe.  This command is probably one of the first commands you should use when performing exploratory data analysis (EDA).There is also the Dtype column."
   ]
  },
  {
   "cell_type": "code",
   "execution_count": 35,
   "id": "3a84c5c2-b03f-4cad-83c2-1232d37b621d",
   "metadata": {},
   "outputs": [
    {
     "name": "stdout",
     "output_type": "stream",
     "text": [
      "<class 'pandas.core.frame.DataFrame'>\n",
      "Index: 336776 entries, 0 to 336775\n",
      "Data columns (total 19 columns):\n",
      " #   Column          Non-Null Count   Dtype  \n",
      "---  ------          --------------   -----  \n",
      " 0   year            336776 non-null  int64  \n",
      " 1   month           336776 non-null  int64  \n",
      " 2   day             336776 non-null  int64  \n",
      " 3   dep_time        328521 non-null  float64\n",
      " 4   sched_dep_time  336776 non-null  int64  \n",
      " 5   dep_delay       328521 non-null  float64\n",
      " 6   arr_time        328063 non-null  float64\n",
      " 7   sched_arr_time  336776 non-null  int64  \n",
      " 8   arr_delay       327346 non-null  float64\n",
      " 9   carrier         336776 non-null  object \n",
      " 10  flight          336776 non-null  int64  \n",
      " 11  tailnum         334264 non-null  object \n",
      " 12  origin          336776 non-null  object \n",
      " 13  dest            336776 non-null  object \n",
      " 14  air_time        327346 non-null  float64\n",
      " 15  distance        336776 non-null  int64  \n",
      " 16  hour            336776 non-null  int64  \n",
      " 17  minute          336776 non-null  int64  \n",
      " 18  time_hour       336776 non-null  object \n",
      "dtypes: float64(5), int64(9), object(5)\n",
      "memory usage: 51.4+ MB\n"
     ]
    }
   ],
   "source": [
    "flights.info()"
   ]
  },
  {
   "cell_type": "markdown",
   "id": "c654f25b-9c86-4a13-95d0-b4482b599d67",
   "metadata": {},
   "source": [
    "You can also use the <b> describe()</b> method to quickly look at some summary statistics."
   ]
  },
  {
   "cell_type": "code",
   "execution_count": 36,
   "id": "9f576184-bf9d-45e8-9d12-9e4543fda1ca",
   "metadata": {},
   "outputs": [
    {
     "data": {
      "text/html": [
       "<div>\n",
       "<style scoped>\n",
       "    .dataframe tbody tr th:only-of-type {\n",
       "        vertical-align: middle;\n",
       "    }\n",
       "\n",
       "    .dataframe tbody tr th {\n",
       "        vertical-align: top;\n",
       "    }\n",
       "\n",
       "    .dataframe thead th {\n",
       "        text-align: right;\n",
       "    }\n",
       "</style>\n",
       "<table border=\"1\" class=\"dataframe\">\n",
       "  <thead>\n",
       "    <tr style=\"text-align: right;\">\n",
       "      <th></th>\n",
       "      <th>year</th>\n",
       "      <th>month</th>\n",
       "      <th>day</th>\n",
       "      <th>dep_time</th>\n",
       "      <th>sched_dep_time</th>\n",
       "      <th>dep_delay</th>\n",
       "      <th>arr_time</th>\n",
       "      <th>sched_arr_time</th>\n",
       "      <th>arr_delay</th>\n",
       "      <th>flight</th>\n",
       "      <th>air_time</th>\n",
       "      <th>distance</th>\n",
       "      <th>hour</th>\n",
       "      <th>minute</th>\n",
       "    </tr>\n",
       "  </thead>\n",
       "  <tbody>\n",
       "    <tr>\n",
       "      <th>count</th>\n",
       "      <td>336776.0</td>\n",
       "      <td>336776.000000</td>\n",
       "      <td>336776.000000</td>\n",
       "      <td>328521.000000</td>\n",
       "      <td>336776.000000</td>\n",
       "      <td>328521.000000</td>\n",
       "      <td>328063.000000</td>\n",
       "      <td>336776.000000</td>\n",
       "      <td>327346.000000</td>\n",
       "      <td>336776.000000</td>\n",
       "      <td>327346.000000</td>\n",
       "      <td>336776.000000</td>\n",
       "      <td>336776.000000</td>\n",
       "      <td>336776.000000</td>\n",
       "    </tr>\n",
       "    <tr>\n",
       "      <th>mean</th>\n",
       "      <td>2013.0</td>\n",
       "      <td>6.548510</td>\n",
       "      <td>15.710787</td>\n",
       "      <td>1349.109947</td>\n",
       "      <td>1344.254840</td>\n",
       "      <td>12.639070</td>\n",
       "      <td>1502.054999</td>\n",
       "      <td>1536.380220</td>\n",
       "      <td>6.895377</td>\n",
       "      <td>1971.923620</td>\n",
       "      <td>150.686460</td>\n",
       "      <td>1039.912604</td>\n",
       "      <td>13.180247</td>\n",
       "      <td>26.230100</td>\n",
       "    </tr>\n",
       "    <tr>\n",
       "      <th>std</th>\n",
       "      <td>0.0</td>\n",
       "      <td>3.414457</td>\n",
       "      <td>8.768607</td>\n",
       "      <td>488.281791</td>\n",
       "      <td>467.335756</td>\n",
       "      <td>40.210061</td>\n",
       "      <td>533.264132</td>\n",
       "      <td>497.457142</td>\n",
       "      <td>44.633292</td>\n",
       "      <td>1632.471938</td>\n",
       "      <td>93.688305</td>\n",
       "      <td>733.233033</td>\n",
       "      <td>4.661316</td>\n",
       "      <td>19.300846</td>\n",
       "    </tr>\n",
       "    <tr>\n",
       "      <th>min</th>\n",
       "      <td>2013.0</td>\n",
       "      <td>1.000000</td>\n",
       "      <td>1.000000</td>\n",
       "      <td>1.000000</td>\n",
       "      <td>106.000000</td>\n",
       "      <td>-43.000000</td>\n",
       "      <td>1.000000</td>\n",
       "      <td>1.000000</td>\n",
       "      <td>-86.000000</td>\n",
       "      <td>1.000000</td>\n",
       "      <td>20.000000</td>\n",
       "      <td>17.000000</td>\n",
       "      <td>1.000000</td>\n",
       "      <td>0.000000</td>\n",
       "    </tr>\n",
       "    <tr>\n",
       "      <th>25%</th>\n",
       "      <td>2013.0</td>\n",
       "      <td>4.000000</td>\n",
       "      <td>8.000000</td>\n",
       "      <td>907.000000</td>\n",
       "      <td>906.000000</td>\n",
       "      <td>-5.000000</td>\n",
       "      <td>1104.000000</td>\n",
       "      <td>1124.000000</td>\n",
       "      <td>-17.000000</td>\n",
       "      <td>553.000000</td>\n",
       "      <td>82.000000</td>\n",
       "      <td>502.000000</td>\n",
       "      <td>9.000000</td>\n",
       "      <td>8.000000</td>\n",
       "    </tr>\n",
       "    <tr>\n",
       "      <th>50%</th>\n",
       "      <td>2013.0</td>\n",
       "      <td>7.000000</td>\n",
       "      <td>16.000000</td>\n",
       "      <td>1401.000000</td>\n",
       "      <td>1359.000000</td>\n",
       "      <td>-2.000000</td>\n",
       "      <td>1535.000000</td>\n",
       "      <td>1556.000000</td>\n",
       "      <td>-5.000000</td>\n",
       "      <td>1496.000000</td>\n",
       "      <td>129.000000</td>\n",
       "      <td>872.000000</td>\n",
       "      <td>13.000000</td>\n",
       "      <td>29.000000</td>\n",
       "    </tr>\n",
       "    <tr>\n",
       "      <th>75%</th>\n",
       "      <td>2013.0</td>\n",
       "      <td>10.000000</td>\n",
       "      <td>23.000000</td>\n",
       "      <td>1744.000000</td>\n",
       "      <td>1729.000000</td>\n",
       "      <td>11.000000</td>\n",
       "      <td>1940.000000</td>\n",
       "      <td>1945.000000</td>\n",
       "      <td>14.000000</td>\n",
       "      <td>3465.000000</td>\n",
       "      <td>192.000000</td>\n",
       "      <td>1389.000000</td>\n",
       "      <td>17.000000</td>\n",
       "      <td>44.000000</td>\n",
       "    </tr>\n",
       "    <tr>\n",
       "      <th>max</th>\n",
       "      <td>2013.0</td>\n",
       "      <td>12.000000</td>\n",
       "      <td>31.000000</td>\n",
       "      <td>2400.000000</td>\n",
       "      <td>2359.000000</td>\n",
       "      <td>1301.000000</td>\n",
       "      <td>2400.000000</td>\n",
       "      <td>2359.000000</td>\n",
       "      <td>1272.000000</td>\n",
       "      <td>8500.000000</td>\n",
       "      <td>695.000000</td>\n",
       "      <td>4983.000000</td>\n",
       "      <td>23.000000</td>\n",
       "      <td>59.000000</td>\n",
       "    </tr>\n",
       "  </tbody>\n",
       "</table>\n",
       "</div>"
      ],
      "text/plain": [
       "           year          month            day       dep_time  sched_dep_time  \\\n",
       "count  336776.0  336776.000000  336776.000000  328521.000000   336776.000000   \n",
       "mean     2013.0       6.548510      15.710787    1349.109947     1344.254840   \n",
       "std         0.0       3.414457       8.768607     488.281791      467.335756   \n",
       "min      2013.0       1.000000       1.000000       1.000000      106.000000   \n",
       "25%      2013.0       4.000000       8.000000     907.000000      906.000000   \n",
       "50%      2013.0       7.000000      16.000000    1401.000000     1359.000000   \n",
       "75%      2013.0      10.000000      23.000000    1744.000000     1729.000000   \n",
       "max      2013.0      12.000000      31.000000    2400.000000     2359.000000   \n",
       "\n",
       "           dep_delay       arr_time  sched_arr_time      arr_delay  \\\n",
       "count  328521.000000  328063.000000   336776.000000  327346.000000   \n",
       "mean       12.639070    1502.054999     1536.380220       6.895377   \n",
       "std        40.210061     533.264132      497.457142      44.633292   \n",
       "min       -43.000000       1.000000        1.000000     -86.000000   \n",
       "25%        -5.000000    1104.000000     1124.000000     -17.000000   \n",
       "50%        -2.000000    1535.000000     1556.000000      -5.000000   \n",
       "75%        11.000000    1940.000000     1945.000000      14.000000   \n",
       "max      1301.000000    2400.000000     2359.000000    1272.000000   \n",
       "\n",
       "              flight       air_time       distance           hour  \\\n",
       "count  336776.000000  327346.000000  336776.000000  336776.000000   \n",
       "mean     1971.923620     150.686460    1039.912604      13.180247   \n",
       "std      1632.471938      93.688305     733.233033       4.661316   \n",
       "min         1.000000      20.000000      17.000000       1.000000   \n",
       "25%       553.000000      82.000000     502.000000       9.000000   \n",
       "50%      1496.000000     129.000000     872.000000      13.000000   \n",
       "75%      3465.000000     192.000000    1389.000000      17.000000   \n",
       "max      8500.000000     695.000000    4983.000000      23.000000   \n",
       "\n",
       "              minute  \n",
       "count  336776.000000  \n",
       "mean       26.230100  \n",
       "std        19.300846  \n",
       "min         0.000000  \n",
       "25%         8.000000  \n",
       "50%        29.000000  \n",
       "75%        44.000000  \n",
       "max        59.000000  "
      ]
     },
     "execution_count": 36,
     "metadata": {},
     "output_type": "execute_result"
    }
   ],
   "source": [
    "flights.describe()"
   ]
  },
  {
   "cell_type": "code",
   "execution_count": null,
   "id": "82aa5943-71e8-4df9-a3fa-3791188b895f",
   "metadata": {},
   "outputs": [],
   "source": []
  },
  {
   "cell_type": "code",
   "execution_count": null,
   "id": "d45125b4-2683-461d-9db2-db73d362f640",
   "metadata": {},
   "outputs": [],
   "source": []
  }
 ],
 "metadata": {
  "kernelspec": {
   "display_name": "Python 3 (ipykernel)",
   "language": "python",
   "name": "python3"
  },
  "language_info": {
   "codemirror_mode": {
    "name": "ipython",
    "version": 3
   },
   "file_extension": ".py",
   "mimetype": "text/x-python",
   "name": "python",
   "nbconvert_exporter": "python",
   "pygments_lexer": "ipython3",
   "version": "3.10.9"
  }
 },
 "nbformat": 4,
 "nbformat_minor": 5
}
