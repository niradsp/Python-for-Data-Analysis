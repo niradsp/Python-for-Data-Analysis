{
 "cells": [
  {
   "cell_type": "markdown",
   "id": "3f35e6c7-0b4f-4a0a-a313-483f7e59e4da",
   "metadata": {
    "tags": []
   },
   "source": [
    "# <center> Python for Data Analysis</center>\n",
    "### <center> Session 1c </center>"
   ]
  },
  {
   "cell_type": "code",
   "execution_count": 1,
   "id": "b986d760-efed-4cf4-aef3-60e227b88d0d",
   "metadata": {},
   "outputs": [
    {
     "data": {
      "text/html": [
       "<style>\n",
       "td,th {\n",
       "  font-size: 20px\n",
       "}\n",
       "</style>\n"
      ],
      "text/plain": [
       "<IPython.core.display.HTML object>"
      ]
     },
     "metadata": {},
     "output_type": "display_data"
    }
   ],
   "source": [
    "%%HTML\n",
    "<style>\n",
    "td,th {\n",
    "  font-size: 20px\n",
    "}\n",
    "</style>\n"
   ]
  },
  {
   "cell_type": "markdown",
   "id": "811e8de6-b7ba-427b-86cc-0a678f4d5c8a",
   "metadata": {
    "tags": []
   },
   "source": [
    "## <font color=green>Table of Contents</font>\n",
    "- Quick Introduction to Pandas\n",
    "- DataFrame and Series  \n",
    "    - Series\n",
    "    - DataFrame\n",
    "- Loading Files\n",
    "    - The NYC flights Dataset\n",
    "- Getting a quick look at your data\n",
    "- Filtering a DataFrame\n",
    "- Sorting\n",
    "- Selecting Multiple columns\n",
    "- Renaming columns\n",
    "- Rearranging columns\n",
    "- Creating new columns\n",
    "- [Grouping in Pandas](#grouping)\n",
    "- [Merging in Pandas](#merge)\n",
    "- [The Axis parameter](#axis)\n",
    "- The Apply Function\n",
    "- Working with Null Values\n",
    "- Reshaping/Pivoting"
   ]
  },
  {
   "cell_type": "code",
   "execution_count": 2,
   "id": "c5b90236-e09e-4c77-a360-568ef0040b0e",
   "metadata": {},
   "outputs": [
    {
     "name": "stdout",
     "output_type": "stream",
     "text": [
      "Pandas:2.1.4\n",
      "Altair:5.2.0\n",
      "numpy:1.23.5\n",
      "seaborn:0.12.2\n"
     ]
    }
   ],
   "source": [
    "import pandas as pd\n",
    "import numpy as np\n",
    "import re\n",
    "import altair as alt\n",
    "import seaborn as sns\n",
    "import matplotlib.pyplot as plt\n",
    "import seaborn.objects as so\n",
    "alt.data_transformers.disable_max_rows()\n",
    "import matplotlib.pyplot as plt\n",
    "print(f\"Pandas:{pd.__version__}\")\n",
    "print(f\"Altair:{alt.__version__}\")\n",
    "print(f\"numpy:{np.__version__}\")\n",
    "print(f\"seaborn:{sns.__version__}\")"
   ]
  },
  {
   "cell_type": "code",
   "execution_count": 3,
   "id": "e48f76c6-9a8e-4ced-85bd-e63955070d05",
   "metadata": {},
   "outputs": [],
   "source": [
    "flights=pd.read_csv(\"https://github.com/niradsp/Python-for-Data-Analysis/raw/main/flights.csv.gz\",compression=\"gzip\",index_col=0)"
   ]
  },
  {
   "cell_type": "markdown",
   "id": "b3b74388-45fb-4332-80dc-48a7226d4b67",
   "metadata": {},
   "source": [
    "# <a id=\"grouping\"> Grouping in Pandas</a>"
   ]
  },
  {
   "cell_type": "markdown",
   "id": "8047c96f-60dd-4aca-a075-178a09bad540",
   "metadata": {},
   "source": [
    "Pandas follows what is called the split-apply-combine process.  Briefly, here is what this process entails:  \n",
    "- <b> Splitting </b> the data into groups\n",
    "- <b>  Applying </b> an aggregation procedure (such as mean or some other custom function) or a Transformation procedure (e.g. cumulative sum).\n",
    "- <b>  Combining </b> the data into a DataFrame. "
   ]
  },
  {
   "cell_type": "markdown",
   "id": "901b8a10-2748-4372-8f0a-32fd37dd243a",
   "metadata": {},
   "source": [
    "Let's try a simple grouping.  Let's group by month and then count the number of values in that month.\n",
    "\n",
    "The way to do this is by using the groupby method.  We will have the column we are interested in within the parenthesis.\n",
    "Next, we select the month only column.  Finally, we count each group."
   ]
  },
  {
   "cell_type": "code",
   "execution_count": 4,
   "id": "c579a1c5-53da-46cb-a2d9-2e98e5ebbfba",
   "metadata": {},
   "outputs": [
    {
     "data": {
      "text/plain": [
       "month\n",
       "1     27004\n",
       "2     24951\n",
       "3     28834\n",
       "4     28330\n",
       "5     28796\n",
       "6     28243\n",
       "7     29425\n",
       "8     29327\n",
       "9     27574\n",
       "10    28889\n",
       "11    27268\n",
       "12    28135\n",
       "Name: month, dtype: int64"
      ]
     },
     "execution_count": 4,
     "metadata": {},
     "output_type": "execute_result"
    }
   ],
   "source": [
    "flights.groupby(\"month\").month.count()"
   ]
  },
  {
   "cell_type": "markdown",
   "id": "3ee77175-ae1e-433f-b128-0df11c39984d",
   "metadata": {},
   "source": [
    "Let's verify that the grouping worked. \n",
    "This operation is the same as using value_counts(), which we discussed already.\n",
    "\n",
    "The <b> sort_index() </b> parameter is used for sorting the index.  By default, value_counts() has the month with the largest count on top."
   ]
  },
  {
   "cell_type": "code",
   "execution_count": 5,
   "id": "7580c3f5-4731-4034-95db-6d8c4f09f1c1",
   "metadata": {},
   "outputs": [
    {
     "data": {
      "text/plain": [
       "month\n",
       "1     27004\n",
       "2     24951\n",
       "3     28834\n",
       "4     28330\n",
       "5     28796\n",
       "6     28243\n",
       "7     29425\n",
       "8     29327\n",
       "9     27574\n",
       "10    28889\n",
       "11    27268\n",
       "12    28135\n",
       "Name: count, dtype: int64"
      ]
     },
     "execution_count": 5,
     "metadata": {},
     "output_type": "execute_result"
    }
   ],
   "source": [
    "flights.month.value_counts().sort_index()"
   ]
  },
  {
   "cell_type": "markdown",
   "id": "ce25fd88-51d1-4eb0-9bb7-0f09242cfc83",
   "metadata": {},
   "source": [
    "We can save the data into a variable after using groupby. However, you cannot visualize the group. "
   ]
  },
  {
   "cell_type": "code",
   "execution_count": 6,
   "id": "a6280a5e-7dca-4fa7-adea-fa5463c17372",
   "metadata": {},
   "outputs": [
    {
     "data": {
      "text/plain": [
       "<pandas.core.groupby.generic.DataFrameGroupBy object at 0x000001270CEE0550>"
      ]
     },
     "execution_count": 6,
     "metadata": {},
     "output_type": "execute_result"
    }
   ],
   "source": [
    "group=flights.groupby(\"month\")\n",
    "group"
   ]
  },
  {
   "cell_type": "markdown",
   "id": "b37268c9-826a-4bba-83a3-1545b0460f61",
   "metadata": {},
   "source": [
    "you can use the <b> .groups </b> attribute to find the number of groups.\n",
    "This actually returns a key-value dictionary, but we can count the number of groups as follows."
   ]
  },
  {
   "cell_type": "code",
   "execution_count": 7,
   "id": "b19a482a-0084-4201-bb21-29e51e9ca53a",
   "metadata": {},
   "outputs": [
    {
     "data": {
      "text/plain": [
       "12"
      ]
     },
     "execution_count": 7,
     "metadata": {},
     "output_type": "execute_result"
    }
   ],
   "source": [
    "len(group.groups)"
   ]
  },
  {
   "cell_type": "markdown",
   "id": "46a61af7-ea29-4312-8ca9-1bbb76e4185b",
   "metadata": {},
   "source": [
    "If you want to extract the 12th month group, you can use the <b> get_group() </b>method."
   ]
  },
  {
   "cell_type": "code",
   "execution_count": 8,
   "id": "89de57f2-9c3e-40f5-9aae-c3f8a1aa27b3",
   "metadata": {},
   "outputs": [
    {
     "data": {
      "text/html": [
       "<div>\n",
       "<style scoped>\n",
       "    .dataframe tbody tr th:only-of-type {\n",
       "        vertical-align: middle;\n",
       "    }\n",
       "\n",
       "    .dataframe tbody tr th {\n",
       "        vertical-align: top;\n",
       "    }\n",
       "\n",
       "    .dataframe thead th {\n",
       "        text-align: right;\n",
       "    }\n",
       "</style>\n",
       "<table border=\"1\" class=\"dataframe\">\n",
       "  <thead>\n",
       "    <tr style=\"text-align: right;\">\n",
       "      <th></th>\n",
       "      <th>year</th>\n",
       "      <th>month</th>\n",
       "      <th>day</th>\n",
       "      <th>dep_time</th>\n",
       "      <th>sched_dep_time</th>\n",
       "      <th>dep_delay</th>\n",
       "      <th>arr_time</th>\n",
       "      <th>sched_arr_time</th>\n",
       "      <th>arr_delay</th>\n",
       "      <th>carrier</th>\n",
       "      <th>flight</th>\n",
       "      <th>tailnum</th>\n",
       "      <th>origin</th>\n",
       "      <th>dest</th>\n",
       "      <th>air_time</th>\n",
       "      <th>distance</th>\n",
       "      <th>hour</th>\n",
       "      <th>minute</th>\n",
       "      <th>time_hour</th>\n",
       "    </tr>\n",
       "  </thead>\n",
       "  <tbody>\n",
       "    <tr>\n",
       "      <th>83161</th>\n",
       "      <td>2013</td>\n",
       "      <td>12</td>\n",
       "      <td>1</td>\n",
       "      <td>13.0</td>\n",
       "      <td>2359</td>\n",
       "      <td>14.0</td>\n",
       "      <td>446.0</td>\n",
       "      <td>445</td>\n",
       "      <td>1.0</td>\n",
       "      <td>B6</td>\n",
       "      <td>745</td>\n",
       "      <td>N715JB</td>\n",
       "      <td>JFK</td>\n",
       "      <td>PSE</td>\n",
       "      <td>195.0</td>\n",
       "      <td>1617</td>\n",
       "      <td>23</td>\n",
       "      <td>59</td>\n",
       "      <td>12/1/2013 23:00</td>\n",
       "    </tr>\n",
       "    <tr>\n",
       "      <th>83162</th>\n",
       "      <td>2013</td>\n",
       "      <td>12</td>\n",
       "      <td>1</td>\n",
       "      <td>17.0</td>\n",
       "      <td>2359</td>\n",
       "      <td>18.0</td>\n",
       "      <td>443.0</td>\n",
       "      <td>437</td>\n",
       "      <td>6.0</td>\n",
       "      <td>B6</td>\n",
       "      <td>839</td>\n",
       "      <td>N593JB</td>\n",
       "      <td>JFK</td>\n",
       "      <td>BQN</td>\n",
       "      <td>186.0</td>\n",
       "      <td>1576</td>\n",
       "      <td>23</td>\n",
       "      <td>59</td>\n",
       "      <td>12/1/2013 23:00</td>\n",
       "    </tr>\n",
       "    <tr>\n",
       "      <th>83163</th>\n",
       "      <td>2013</td>\n",
       "      <td>12</td>\n",
       "      <td>1</td>\n",
       "      <td>453.0</td>\n",
       "      <td>500</td>\n",
       "      <td>-7.0</td>\n",
       "      <td>636.0</td>\n",
       "      <td>651</td>\n",
       "      <td>-15.0</td>\n",
       "      <td>US</td>\n",
       "      <td>1895</td>\n",
       "      <td>N197UW</td>\n",
       "      <td>EWR</td>\n",
       "      <td>CLT</td>\n",
       "      <td>86.0</td>\n",
       "      <td>529</td>\n",
       "      <td>5</td>\n",
       "      <td>0</td>\n",
       "      <td>12/1/2013 5:00</td>\n",
       "    </tr>\n",
       "  </tbody>\n",
       "</table>\n",
       "</div>"
      ],
      "text/plain": [
       "       year  month  day  dep_time  sched_dep_time  dep_delay  arr_time  \\\n",
       "83161  2013     12    1      13.0            2359       14.0     446.0   \n",
       "83162  2013     12    1      17.0            2359       18.0     443.0   \n",
       "83163  2013     12    1     453.0             500       -7.0     636.0   \n",
       "\n",
       "       sched_arr_time  arr_delay carrier  flight tailnum origin dest  \\\n",
       "83161             445        1.0      B6     745  N715JB    JFK  PSE   \n",
       "83162             437        6.0      B6     839  N593JB    JFK  BQN   \n",
       "83163             651      -15.0      US    1895  N197UW    EWR  CLT   \n",
       "\n",
       "       air_time  distance  hour  minute        time_hour  \n",
       "83161     195.0      1617    23      59  12/1/2013 23:00  \n",
       "83162     186.0      1576    23      59  12/1/2013 23:00  \n",
       "83163      86.0       529     5       0   12/1/2013 5:00  "
      ]
     },
     "execution_count": 8,
     "metadata": {},
     "output_type": "execute_result"
    }
   ],
   "source": [
    "group.get_group(12).head(3)"
   ]
  },
  {
   "cell_type": "markdown",
   "id": "40154c68-777c-4689-9da8-62985e4e8859",
   "metadata": {},
   "source": [
    "Now let's try a more complicated example.  \n",
    "In the example below, we group by month, day and year, and then for this group, we take the mean of departure delay.\n",
    "\n",
    "I must say that the <b> year </b> column is redundant because we have only one year in the dataset."
   ]
  },
  {
   "cell_type": "code",
   "execution_count": 9,
   "id": "dece3efa-db1d-4487-8f59-a0a359074ff2",
   "metadata": {},
   "outputs": [
    {
     "data": {
      "text/plain": [
       "year  month  day\n",
       "2013  1      1      11.548926\n",
       "             2      13.858824\n",
       "             3      10.987832\n",
       "             4       8.951595\n",
       "             5       5.732218\n",
       "Name: dep_delay, dtype: float64"
      ]
     },
     "execution_count": 9,
     "metadata": {},
     "output_type": "execute_result"
    }
   ],
   "source": [
    "flights.groupby(['year','month','day'])['dep_delay'].mean().head()"
   ]
  },
  {
   "cell_type": "markdown",
   "id": "c02d3d06-3df1-471b-a715-dca3657de935",
   "metadata": {},
   "source": [
    "The <b> reset_index() </b> method will reset the index so that we do not have multi-indexed  columns anymore.\n",
    "Unlike R, where we have one rownames, Pandas can have multiple index labels."
   ]
  },
  {
   "cell_type": "code",
   "execution_count": 10,
   "id": "9ed2975b-923d-49b3-8f2e-e0587bba4cf0",
   "metadata": {},
   "outputs": [
    {
     "data": {
      "text/html": [
       "<div>\n",
       "<style scoped>\n",
       "    .dataframe tbody tr th:only-of-type {\n",
       "        vertical-align: middle;\n",
       "    }\n",
       "\n",
       "    .dataframe tbody tr th {\n",
       "        vertical-align: top;\n",
       "    }\n",
       "\n",
       "    .dataframe thead th {\n",
       "        text-align: right;\n",
       "    }\n",
       "</style>\n",
       "<table border=\"1\" class=\"dataframe\">\n",
       "  <thead>\n",
       "    <tr style=\"text-align: right;\">\n",
       "      <th></th>\n",
       "      <th>year</th>\n",
       "      <th>month</th>\n",
       "      <th>day</th>\n",
       "      <th>mean_dep_delay</th>\n",
       "    </tr>\n",
       "  </thead>\n",
       "  <tbody>\n",
       "    <tr>\n",
       "      <th>0</th>\n",
       "      <td>2013</td>\n",
       "      <td>1</td>\n",
       "      <td>1</td>\n",
       "      <td>11.548926</td>\n",
       "    </tr>\n",
       "    <tr>\n",
       "      <th>1</th>\n",
       "      <td>2013</td>\n",
       "      <td>1</td>\n",
       "      <td>2</td>\n",
       "      <td>13.858824</td>\n",
       "    </tr>\n",
       "    <tr>\n",
       "      <th>2</th>\n",
       "      <td>2013</td>\n",
       "      <td>1</td>\n",
       "      <td>3</td>\n",
       "      <td>10.987832</td>\n",
       "    </tr>\n",
       "    <tr>\n",
       "      <th>3</th>\n",
       "      <td>2013</td>\n",
       "      <td>1</td>\n",
       "      <td>4</td>\n",
       "      <td>8.951595</td>\n",
       "    </tr>\n",
       "    <tr>\n",
       "      <th>4</th>\n",
       "      <td>2013</td>\n",
       "      <td>1</td>\n",
       "      <td>5</td>\n",
       "      <td>5.732218</td>\n",
       "    </tr>\n",
       "    <tr>\n",
       "      <th>...</th>\n",
       "      <td>...</td>\n",
       "      <td>...</td>\n",
       "      <td>...</td>\n",
       "      <td>...</td>\n",
       "    </tr>\n",
       "    <tr>\n",
       "      <th>360</th>\n",
       "      <td>2013</td>\n",
       "      <td>12</td>\n",
       "      <td>27</td>\n",
       "      <td>10.937630</td>\n",
       "    </tr>\n",
       "    <tr>\n",
       "      <th>361</th>\n",
       "      <td>2013</td>\n",
       "      <td>12</td>\n",
       "      <td>28</td>\n",
       "      <td>7.981550</td>\n",
       "    </tr>\n",
       "    <tr>\n",
       "      <th>362</th>\n",
       "      <td>2013</td>\n",
       "      <td>12</td>\n",
       "      <td>29</td>\n",
       "      <td>22.309551</td>\n",
       "    </tr>\n",
       "    <tr>\n",
       "      <th>363</th>\n",
       "      <td>2013</td>\n",
       "      <td>12</td>\n",
       "      <td>30</td>\n",
       "      <td>10.698113</td>\n",
       "    </tr>\n",
       "    <tr>\n",
       "      <th>364</th>\n",
       "      <td>2013</td>\n",
       "      <td>12</td>\n",
       "      <td>31</td>\n",
       "      <td>6.996053</td>\n",
       "    </tr>\n",
       "  </tbody>\n",
       "</table>\n",
       "<p>365 rows × 4 columns</p>\n",
       "</div>"
      ],
      "text/plain": [
       "     year  month  day  mean_dep_delay\n",
       "0    2013      1    1       11.548926\n",
       "1    2013      1    2       13.858824\n",
       "2    2013      1    3       10.987832\n",
       "3    2013      1    4        8.951595\n",
       "4    2013      1    5        5.732218\n",
       "..    ...    ...  ...             ...\n",
       "360  2013     12   27       10.937630\n",
       "361  2013     12   28        7.981550\n",
       "362  2013     12   29       22.309551\n",
       "363  2013     12   30       10.698113\n",
       "364  2013     12   31        6.996053\n",
       "\n",
       "[365 rows x 4 columns]"
      ]
     },
     "execution_count": 10,
     "metadata": {},
     "output_type": "execute_result"
    }
   ],
   "source": [
    "flights.groupby(['year','month','day'])['dep_delay'].mean(\"dep_delay\").reset_index().rename(columns={\"dep_delay\":\"mean_dep_delay\"})"
   ]
  },
  {
   "cell_type": "markdown",
   "id": "6288c98e-e98b-44c1-a694-fb281d21d8c4",
   "metadata": {},
   "source": [
    "Did the grouping work?  Let's test to see if we get the same mean, if we subset for Jan 1, 2013."
   ]
  },
  {
   "cell_type": "code",
   "execution_count": 11,
   "id": "c80960cc-f33c-452f-aa45-f6658bc4847f",
   "metadata": {},
   "outputs": [
    {
     "data": {
      "text/plain": [
       "11.54892601431981"
      ]
     },
     "execution_count": 11,
     "metadata": {},
     "output_type": "execute_result"
    }
   ],
   "source": [
    "condition=(flights.month==1) & (flights.year==2013) & (flights.day==1)\n",
    "flights[condition].dep_delay.mean()"
   ]
  },
  {
   "cell_type": "markdown",
   "id": "d169b94c-9280-4979-9249-20f2210b281b",
   "metadata": {},
   "source": [
    "The mean is the same.  Therefore, the grouping worked."
   ]
  },
  {
   "cell_type": "markdown",
   "id": "41e933a2-6b98-4a1b-8384-849ee992c82b",
   "metadata": {},
   "source": [
    "As an aside, in order to extract groups where we have multiple grouping columns, we need to use tuples.  In the example below, I extract the data for January 10, 2013."
   ]
  },
  {
   "cell_type": "code",
   "execution_count": 12,
   "id": "b1cfa7ec-60f5-4308-8613-dee20f478ef1",
   "metadata": {},
   "outputs": [
    {
     "data": {
      "text/html": [
       "<div>\n",
       "<style scoped>\n",
       "    .dataframe tbody tr th:only-of-type {\n",
       "        vertical-align: middle;\n",
       "    }\n",
       "\n",
       "    .dataframe tbody tr th {\n",
       "        vertical-align: top;\n",
       "    }\n",
       "\n",
       "    .dataframe thead th {\n",
       "        text-align: right;\n",
       "    }\n",
       "</style>\n",
       "<table border=\"1\" class=\"dataframe\">\n",
       "  <thead>\n",
       "    <tr style=\"text-align: right;\">\n",
       "      <th></th>\n",
       "      <th>year</th>\n",
       "      <th>month</th>\n",
       "      <th>day</th>\n",
       "      <th>dep_time</th>\n",
       "      <th>sched_dep_time</th>\n",
       "      <th>dep_delay</th>\n",
       "      <th>arr_time</th>\n",
       "      <th>sched_arr_time</th>\n",
       "      <th>arr_delay</th>\n",
       "      <th>carrier</th>\n",
       "      <th>flight</th>\n",
       "      <th>tailnum</th>\n",
       "      <th>origin</th>\n",
       "      <th>dest</th>\n",
       "      <th>air_time</th>\n",
       "      <th>distance</th>\n",
       "      <th>hour</th>\n",
       "      <th>minute</th>\n",
       "      <th>time_hour</th>\n",
       "    </tr>\n",
       "  </thead>\n",
       "  <tbody>\n",
       "    <tr>\n",
       "      <th>7900</th>\n",
       "      <td>2013</td>\n",
       "      <td>1</td>\n",
       "      <td>10</td>\n",
       "      <td>3.0</td>\n",
       "      <td>2359</td>\n",
       "      <td>4.0</td>\n",
       "      <td>426.0</td>\n",
       "      <td>437</td>\n",
       "      <td>-11.0</td>\n",
       "      <td>B6</td>\n",
       "      <td>727</td>\n",
       "      <td>N571JB</td>\n",
       "      <td>JFK</td>\n",
       "      <td>BQN</td>\n",
       "      <td>183.0</td>\n",
       "      <td>1576</td>\n",
       "      <td>23</td>\n",
       "      <td>59</td>\n",
       "      <td>1/10/2013 23:00</td>\n",
       "    </tr>\n",
       "    <tr>\n",
       "      <th>7901</th>\n",
       "      <td>2013</td>\n",
       "      <td>1</td>\n",
       "      <td>10</td>\n",
       "      <td>16.0</td>\n",
       "      <td>2359</td>\n",
       "      <td>17.0</td>\n",
       "      <td>447.0</td>\n",
       "      <td>444</td>\n",
       "      <td>3.0</td>\n",
       "      <td>B6</td>\n",
       "      <td>739</td>\n",
       "      <td>N564JB</td>\n",
       "      <td>JFK</td>\n",
       "      <td>PSE</td>\n",
       "      <td>191.0</td>\n",
       "      <td>1617</td>\n",
       "      <td>23</td>\n",
       "      <td>59</td>\n",
       "      <td>1/10/2013 23:00</td>\n",
       "    </tr>\n",
       "    <tr>\n",
       "      <th>7902</th>\n",
       "      <td>2013</td>\n",
       "      <td>1</td>\n",
       "      <td>10</td>\n",
       "      <td>450.0</td>\n",
       "      <td>500</td>\n",
       "      <td>-10.0</td>\n",
       "      <td>634.0</td>\n",
       "      <td>648</td>\n",
       "      <td>-14.0</td>\n",
       "      <td>US</td>\n",
       "      <td>1117</td>\n",
       "      <td>N171US</td>\n",
       "      <td>EWR</td>\n",
       "      <td>CLT</td>\n",
       "      <td>78.0</td>\n",
       "      <td>529</td>\n",
       "      <td>5</td>\n",
       "      <td>0</td>\n",
       "      <td>1/10/2013 5:00</td>\n",
       "    </tr>\n",
       "  </tbody>\n",
       "</table>\n",
       "</div>"
      ],
      "text/plain": [
       "      year  month  day  dep_time  sched_dep_time  dep_delay  arr_time  \\\n",
       "7900  2013      1   10       3.0            2359        4.0     426.0   \n",
       "7901  2013      1   10      16.0            2359       17.0     447.0   \n",
       "7902  2013      1   10     450.0             500      -10.0     634.0   \n",
       "\n",
       "      sched_arr_time  arr_delay carrier  flight tailnum origin dest  air_time  \\\n",
       "7900             437      -11.0      B6     727  N571JB    JFK  BQN     183.0   \n",
       "7901             444        3.0      B6     739  N564JB    JFK  PSE     191.0   \n",
       "7902             648      -14.0      US    1117  N171US    EWR  CLT      78.0   \n",
       "\n",
       "      distance  hour  minute        time_hour  \n",
       "7900      1576    23      59  1/10/2013 23:00  \n",
       "7901      1617    23      59  1/10/2013 23:00  \n",
       "7902       529     5       0   1/10/2013 5:00  "
      ]
     },
     "execution_count": 12,
     "metadata": {},
     "output_type": "execute_result"
    }
   ],
   "source": [
    "flights.groupby(['year','month','day']).get_group((2013,1,10)).head(3)"
   ]
  },
  {
   "cell_type": "markdown",
   "id": "331c7032-c836-4634-b48d-10cdf4e1b55d",
   "metadata": {},
   "source": [
    "In the example below, I first group by the \"dest\" column.\n",
    "Then, I select distance and arr_delay columns.  Note the double square brackets.  \n",
    "Finally, for the distance column, I count the number of \"dest\" in each group, and also take the average.  I also use the arr_delay column to calculate  the mean.\n",
    "The <b> agg </b> method is handy for this.  The key is the column of interest, and the values are the operations we want (mean, count, etc)."
   ]
  },
  {
   "cell_type": "code",
   "execution_count": 13,
   "id": "d82f047a-3020-486d-b748-78d49bfc1766",
   "metadata": {},
   "outputs": [],
   "source": [
    "avg_distance_arr_delay=flights.groupby(\n",
    "    \"dest\")[['distance','arr_delay']].agg(\n",
    "    {\"distance\":['mean','count'],\"arr_delay\":\"mean\"}).reset_index()"
   ]
  },
  {
   "cell_type": "code",
   "execution_count": 14,
   "id": "3236d1aa-65cc-452c-ace8-8375fab8052b",
   "metadata": {},
   "outputs": [
    {
     "data": {
      "text/html": [
       "<div>\n",
       "<style scoped>\n",
       "    .dataframe tbody tr th:only-of-type {\n",
       "        vertical-align: middle;\n",
       "    }\n",
       "\n",
       "    .dataframe tbody tr th {\n",
       "        vertical-align: top;\n",
       "    }\n",
       "\n",
       "    .dataframe thead tr th {\n",
       "        text-align: left;\n",
       "    }\n",
       "</style>\n",
       "<table border=\"1\" class=\"dataframe\">\n",
       "  <thead>\n",
       "    <tr>\n",
       "      <th></th>\n",
       "      <th>dest</th>\n",
       "      <th colspan=\"2\" halign=\"left\">distance</th>\n",
       "      <th>arr_delay</th>\n",
       "    </tr>\n",
       "    <tr>\n",
       "      <th></th>\n",
       "      <th></th>\n",
       "      <th>mean</th>\n",
       "      <th>count</th>\n",
       "      <th>mean</th>\n",
       "    </tr>\n",
       "  </thead>\n",
       "  <tbody>\n",
       "    <tr>\n",
       "      <th>0</th>\n",
       "      <td>ABQ</td>\n",
       "      <td>1826.00000</td>\n",
       "      <td>254</td>\n",
       "      <td>4.381890</td>\n",
       "    </tr>\n",
       "    <tr>\n",
       "      <th>1</th>\n",
       "      <td>ACK</td>\n",
       "      <td>199.00000</td>\n",
       "      <td>265</td>\n",
       "      <td>4.852273</td>\n",
       "    </tr>\n",
       "    <tr>\n",
       "      <th>2</th>\n",
       "      <td>ALB</td>\n",
       "      <td>143.00000</td>\n",
       "      <td>439</td>\n",
       "      <td>14.397129</td>\n",
       "    </tr>\n",
       "    <tr>\n",
       "      <th>3</th>\n",
       "      <td>ANC</td>\n",
       "      <td>3370.00000</td>\n",
       "      <td>8</td>\n",
       "      <td>-2.500000</td>\n",
       "    </tr>\n",
       "    <tr>\n",
       "      <th>4</th>\n",
       "      <td>ATL</td>\n",
       "      <td>757.10822</td>\n",
       "      <td>17215</td>\n",
       "      <td>11.300113</td>\n",
       "    </tr>\n",
       "  </tbody>\n",
       "</table>\n",
       "</div>"
      ],
      "text/plain": [
       "  dest    distance         arr_delay\n",
       "              mean  count       mean\n",
       "0  ABQ  1826.00000    254   4.381890\n",
       "1  ACK   199.00000    265   4.852273\n",
       "2  ALB   143.00000    439  14.397129\n",
       "3  ANC  3370.00000      8  -2.500000\n",
       "4  ATL   757.10822  17215  11.300113"
      ]
     },
     "execution_count": 14,
     "metadata": {},
     "output_type": "execute_result"
    }
   ],
   "source": [
    "avg_distance_arr_delay.head()"
   ]
  },
  {
   "cell_type": "markdown",
   "id": "a07cb45f-0f6c-4f15-8155-10ec2589de8f",
   "metadata": {},
   "source": [
    "Notice that the columns are <b>multi-indexed</b>\n",
    "\n",
    "To convert from multiple column labels to single column labels, we can use the <b> to_flat_index()</b> method."
   ]
  },
  {
   "cell_type": "code",
   "execution_count": 15,
   "id": "4fd3fc4b-1bda-4a3e-a81d-394b90171d6d",
   "metadata": {},
   "outputs": [
    {
     "data": {
      "text/plain": [
       "Index([         ('dest', ''),  ('distance', 'mean'), ('distance', 'count'),\n",
       "       ('arr_delay', 'mean')],\n",
       "      dtype='object')"
      ]
     },
     "execution_count": 15,
     "metadata": {},
     "output_type": "execute_result"
    }
   ],
   "source": [
    "avg_distance_arr_delay.columns.to_flat_index()"
   ]
  },
  {
   "cell_type": "markdown",
   "id": "ff614f7d-ce92-4e6f-8f04-ad011d68b6f8",
   "metadata": {},
   "source": [
    "Notice above that the multi-indexed columns are tuples.  We can thus join these duples and create a single-index column from this."
   ]
  },
  {
   "cell_type": "code",
   "execution_count": 16,
   "id": "f7c00366-f329-40ae-b367-71606e732f45",
   "metadata": {},
   "outputs": [],
   "source": [
    "avg_distance_arr_delay.columns=avg_distance_arr_delay.columns.to_flat_index().str.join(\"_\")"
   ]
  },
  {
   "cell_type": "markdown",
   "id": "20e8343e-9fe9-46bd-960d-6a041a470828",
   "metadata": {},
   "source": [
    "Note that when you join the multi-index columns, the \"dest\" column is changed to \"dest_\". We thus need to rename this column."
   ]
  },
  {
   "cell_type": "code",
   "execution_count": 17,
   "id": "baf1a329-425d-4d99-bcd3-3abbf985838b",
   "metadata": {},
   "outputs": [],
   "source": [
    "avg_distance_arr_delay.rename(columns={\"dest_\":\"dest\"},inplace=True)"
   ]
  },
  {
   "cell_type": "code",
   "execution_count": 18,
   "id": "9056f457-ac5e-4105-891a-3c65f7a33b0a",
   "metadata": {},
   "outputs": [
    {
     "data": {
      "text/html": [
       "<div>\n",
       "<style scoped>\n",
       "    .dataframe tbody tr th:only-of-type {\n",
       "        vertical-align: middle;\n",
       "    }\n",
       "\n",
       "    .dataframe tbody tr th {\n",
       "        vertical-align: top;\n",
       "    }\n",
       "\n",
       "    .dataframe thead th {\n",
       "        text-align: right;\n",
       "    }\n",
       "</style>\n",
       "<table border=\"1\" class=\"dataframe\">\n",
       "  <thead>\n",
       "    <tr style=\"text-align: right;\">\n",
       "      <th></th>\n",
       "      <th>dest</th>\n",
       "      <th>distance_mean</th>\n",
       "      <th>distance_count</th>\n",
       "      <th>arr_delay_mean</th>\n",
       "    </tr>\n",
       "  </thead>\n",
       "  <tbody>\n",
       "    <tr>\n",
       "      <th>0</th>\n",
       "      <td>ABQ</td>\n",
       "      <td>1826.00000</td>\n",
       "      <td>254</td>\n",
       "      <td>4.381890</td>\n",
       "    </tr>\n",
       "    <tr>\n",
       "      <th>1</th>\n",
       "      <td>ACK</td>\n",
       "      <td>199.00000</td>\n",
       "      <td>265</td>\n",
       "      <td>4.852273</td>\n",
       "    </tr>\n",
       "    <tr>\n",
       "      <th>2</th>\n",
       "      <td>ALB</td>\n",
       "      <td>143.00000</td>\n",
       "      <td>439</td>\n",
       "      <td>14.397129</td>\n",
       "    </tr>\n",
       "    <tr>\n",
       "      <th>3</th>\n",
       "      <td>ANC</td>\n",
       "      <td>3370.00000</td>\n",
       "      <td>8</td>\n",
       "      <td>-2.500000</td>\n",
       "    </tr>\n",
       "    <tr>\n",
       "      <th>4</th>\n",
       "      <td>ATL</td>\n",
       "      <td>757.10822</td>\n",
       "      <td>17215</td>\n",
       "      <td>11.300113</td>\n",
       "    </tr>\n",
       "  </tbody>\n",
       "</table>\n",
       "</div>"
      ],
      "text/plain": [
       "  dest  distance_mean  distance_count  arr_delay_mean\n",
       "0  ABQ     1826.00000             254        4.381890\n",
       "1  ACK      199.00000             265        4.852273\n",
       "2  ALB      143.00000             439       14.397129\n",
       "3  ANC     3370.00000               8       -2.500000\n",
       "4  ATL      757.10822           17215       11.300113"
      ]
     },
     "execution_count": 18,
     "metadata": {},
     "output_type": "execute_result"
    }
   ],
   "source": [
    "avg_distance_arr_delay.head()"
   ]
  },
  {
   "cell_type": "markdown",
   "id": "706f34e5-8776-463c-887d-b773245d3be6",
   "metadata": {},
   "source": [
    "Below, I group by month and day, and count the number of unique destinations. Here, I use <b> nunique() </b>."
   ]
  },
  {
   "cell_type": "code",
   "execution_count": 49,
   "id": "906b8cb2-7d75-475e-9a4c-f5cce6a5ae10",
   "metadata": {},
   "outputs": [
    {
     "data": {
      "text/plain": [
       "month  day\n",
       "1      1      87\n",
       "       2      88\n",
       "       3      87\n",
       "Name: dest, dtype: int64"
      ]
     },
     "execution_count": 49,
     "metadata": {},
     "output_type": "execute_result"
    }
   ],
   "source": [
    "flights.groupby([\"month\",\"day\"]).dest.nunique().head(3)"
   ]
  },
  {
   "cell_type": "markdown",
   "id": "884cea5a-2d9a-4509-a013-c1daf86465bf",
   "metadata": {},
   "source": [
    "The <b> nth() </b> method can be used to extract the nth row for each group."
   ]
  },
  {
   "cell_type": "code",
   "execution_count": 51,
   "id": "b16eaa54-c418-480e-be1c-90931134cd0a",
   "metadata": {},
   "outputs": [
    {
     "data": {
      "text/html": [
       "<div>\n",
       "<style scoped>\n",
       "    .dataframe tbody tr th:only-of-type {\n",
       "        vertical-align: middle;\n",
       "    }\n",
       "\n",
       "    .dataframe tbody tr th {\n",
       "        vertical-align: top;\n",
       "    }\n",
       "\n",
       "    .dataframe thead th {\n",
       "        text-align: right;\n",
       "    }\n",
       "</style>\n",
       "<table border=\"1\" class=\"dataframe\">\n",
       "  <thead>\n",
       "    <tr style=\"text-align: right;\">\n",
       "      <th></th>\n",
       "      <th>year</th>\n",
       "      <th>month</th>\n",
       "      <th>day</th>\n",
       "      <th>dep_time</th>\n",
       "      <th>sched_dep_time</th>\n",
       "      <th>dep_delay</th>\n",
       "      <th>arr_time</th>\n",
       "      <th>sched_arr_time</th>\n",
       "      <th>arr_delay</th>\n",
       "      <th>carrier</th>\n",
       "      <th>flight</th>\n",
       "      <th>tailnum</th>\n",
       "      <th>origin</th>\n",
       "      <th>dest</th>\n",
       "      <th>air_time</th>\n",
       "      <th>distance</th>\n",
       "      <th>hour</th>\n",
       "      <th>minute</th>\n",
       "      <th>time_hour</th>\n",
       "    </tr>\n",
       "  </thead>\n",
       "  <tbody>\n",
       "    <tr>\n",
       "      <th>1</th>\n",
       "      <td>2013</td>\n",
       "      <td>1</td>\n",
       "      <td>1</td>\n",
       "      <td>533.0</td>\n",
       "      <td>529</td>\n",
       "      <td>4.0</td>\n",
       "      <td>850.0</td>\n",
       "      <td>830</td>\n",
       "      <td>20.0</td>\n",
       "      <td>UA</td>\n",
       "      <td>1714</td>\n",
       "      <td>N24211</td>\n",
       "      <td>LGA</td>\n",
       "      <td>IAH</td>\n",
       "      <td>227.0</td>\n",
       "      <td>1416</td>\n",
       "      <td>5</td>\n",
       "      <td>29</td>\n",
       "      <td>1/1/2013 5:00</td>\n",
       "    </tr>\n",
       "    <tr>\n",
       "      <th>843</th>\n",
       "      <td>2013</td>\n",
       "      <td>1</td>\n",
       "      <td>2</td>\n",
       "      <td>126.0</td>\n",
       "      <td>2250</td>\n",
       "      <td>156.0</td>\n",
       "      <td>233.0</td>\n",
       "      <td>2359</td>\n",
       "      <td>154.0</td>\n",
       "      <td>B6</td>\n",
       "      <td>22</td>\n",
       "      <td>N636JB</td>\n",
       "      <td>JFK</td>\n",
       "      <td>SYR</td>\n",
       "      <td>49.0</td>\n",
       "      <td>209</td>\n",
       "      <td>22</td>\n",
       "      <td>50</td>\n",
       "      <td>1/2/2013 22:00</td>\n",
       "    </tr>\n",
       "    <tr>\n",
       "      <th>1786</th>\n",
       "      <td>2013</td>\n",
       "      <td>1</td>\n",
       "      <td>3</td>\n",
       "      <td>50.0</td>\n",
       "      <td>2145</td>\n",
       "      <td>185.0</td>\n",
       "      <td>203.0</td>\n",
       "      <td>2311</td>\n",
       "      <td>172.0</td>\n",
       "      <td>B6</td>\n",
       "      <td>104</td>\n",
       "      <td>N329JB</td>\n",
       "      <td>JFK</td>\n",
       "      <td>BUF</td>\n",
       "      <td>58.0</td>\n",
       "      <td>301</td>\n",
       "      <td>21</td>\n",
       "      <td>45</td>\n",
       "      <td>1/3/2013 21:00</td>\n",
       "    </tr>\n",
       "    <tr>\n",
       "      <th>2700</th>\n",
       "      <td>2013</td>\n",
       "      <td>1</td>\n",
       "      <td>4</td>\n",
       "      <td>106.0</td>\n",
       "      <td>2245</td>\n",
       "      <td>141.0</td>\n",
       "      <td>201.0</td>\n",
       "      <td>2356</td>\n",
       "      <td>125.0</td>\n",
       "      <td>B6</td>\n",
       "      <td>608</td>\n",
       "      <td>N192JB</td>\n",
       "      <td>JFK</td>\n",
       "      <td>PWM</td>\n",
       "      <td>44.0</td>\n",
       "      <td>273</td>\n",
       "      <td>22</td>\n",
       "      <td>45</td>\n",
       "      <td>1/4/2013 22:00</td>\n",
       "    </tr>\n",
       "    <tr>\n",
       "      <th>3615</th>\n",
       "      <td>2013</td>\n",
       "      <td>1</td>\n",
       "      <td>5</td>\n",
       "      <td>37.0</td>\n",
       "      <td>2230</td>\n",
       "      <td>127.0</td>\n",
       "      <td>341.0</td>\n",
       "      <td>131</td>\n",
       "      <td>130.0</td>\n",
       "      <td>B6</td>\n",
       "      <td>11</td>\n",
       "      <td>N527JB</td>\n",
       "      <td>JFK</td>\n",
       "      <td>FLL</td>\n",
       "      <td>163.0</td>\n",
       "      <td>1069</td>\n",
       "      <td>22</td>\n",
       "      <td>30</td>\n",
       "      <td>1/5/2013 22:00</td>\n",
       "    </tr>\n",
       "  </tbody>\n",
       "</table>\n",
       "</div>"
      ],
      "text/plain": [
       "      year  month  day  dep_time  sched_dep_time  dep_delay  arr_time  \\\n",
       "1     2013      1    1     533.0             529        4.0     850.0   \n",
       "843   2013      1    2     126.0            2250      156.0     233.0   \n",
       "1786  2013      1    3      50.0            2145      185.0     203.0   \n",
       "2700  2013      1    4     106.0            2245      141.0     201.0   \n",
       "3615  2013      1    5      37.0            2230      127.0     341.0   \n",
       "\n",
       "      sched_arr_time  arr_delay carrier  flight tailnum origin dest  air_time  \\\n",
       "1                830       20.0      UA    1714  N24211    LGA  IAH     227.0   \n",
       "843             2359      154.0      B6      22  N636JB    JFK  SYR      49.0   \n",
       "1786            2311      172.0      B6     104  N329JB    JFK  BUF      58.0   \n",
       "2700            2356      125.0      B6     608  N192JB    JFK  PWM      44.0   \n",
       "3615             131      130.0      B6      11  N527JB    JFK  FLL     163.0   \n",
       "\n",
       "      distance  hour  minute       time_hour  \n",
       "1         1416     5      29   1/1/2013 5:00  \n",
       "843        209    22      50  1/2/2013 22:00  \n",
       "1786       301    21      45  1/3/2013 21:00  \n",
       "2700       273    22      45  1/4/2013 22:00  \n",
       "3615      1069    22      30  1/5/2013 22:00  "
      ]
     },
     "execution_count": 51,
     "metadata": {},
     "output_type": "execute_result"
    }
   ],
   "source": [
    "flights.groupby([\"month\",\"day\"]).nth(1).sort_values([\"year\",\"month\",\"day\"]).head(5)"
   ]
  },
  {
   "cell_type": "markdown",
   "id": "e44d42c8-5999-4723-9008-68741632a654",
   "metadata": {},
   "source": [
    "There is also the <b> size() </b> method.  Note that the size() method also counts NULL values."
   ]
  },
  {
   "cell_type": "code",
   "execution_count": 55,
   "id": "c3f9b5d9-9185-40f7-befa-32f39bcbb42c",
   "metadata": {},
   "outputs": [
    {
     "data": {
      "text/plain": [
       "year  month\n",
       "2013  1        27004\n",
       "      2        24951\n",
       "      3        28834\n",
       "      4        28330\n",
       "      5        28796\n",
       "dtype: int64"
      ]
     },
     "execution_count": 55,
     "metadata": {},
     "output_type": "execute_result"
    }
   ],
   "source": [
    "flights.groupby([\"year\",\"month\"]).size().head()"
   ]
  },
  {
   "cell_type": "markdown",
   "id": "a7aeab67-4bce-4fa3-882b-21ba06c6a781",
   "metadata": {},
   "source": [
    "Similarly, we can also group and find the standard deviation."
   ]
  },
  {
   "cell_type": "code",
   "execution_count": 56,
   "id": "f093a837-d03b-4b0b-b52a-400dd3f74cff",
   "metadata": {},
   "outputs": [
    {
     "data": {
      "text/plain": [
       "year  month\n",
       "2013  1        36.390313\n",
       "      2        36.266553\n",
       "      3        40.130967\n",
       "Name: dep_delay, dtype: float64"
      ]
     },
     "execution_count": 56,
     "metadata": {},
     "output_type": "execute_result"
    }
   ],
   "source": [
    "flights.groupby([\"year\",\"month\"]).dep_delay.std().head(3)"
   ]
  },
  {
   "cell_type": "markdown",
   "id": "5238fd6f-7387-44b4-a2da-ace6fd0c2a67",
   "metadata": {},
   "source": [
    "You can use the <b> .all() </b> method to test if all of the values are not 0."
   ]
  },
  {
   "cell_type": "code",
   "execution_count": 57,
   "id": "a81d74a6-c61e-446f-9c9d-a44e70ecb10d",
   "metadata": {},
   "outputs": [
    {
     "data": {
      "text/plain": [
       "year  month\n",
       "2013  1        False\n",
       "      2        False\n",
       "      3        False\n",
       "      4        False\n",
       "      5        False\n",
       "      6        False\n",
       "      7        False\n",
       "      8        False\n",
       "      9        False\n",
       "      10       False\n",
       "      11       False\n",
       "      12       False\n",
       "Name: dep_delay, dtype: bool"
      ]
     },
     "execution_count": 57,
     "metadata": {},
     "output_type": "execute_result"
    }
   ],
   "source": [
    "flights.groupby([\"year\",\"month\"]).dep_delay.all()"
   ]
  },
  {
   "cell_type": "markdown",
   "id": "60a4cc89-4787-4c1d-96d7-b3ae8879c4b7",
   "metadata": {},
   "source": [
    "Here, I am using the <b> assign()</b> function to first create a column called dep_gt_500 (note that with assign the variable name does not have a quote). It is a boolean column (True or False if a row has dep_delay greater than 1100) Next, we check to see if any of the months have departure delay greater than 1100.  We can see that January and June are True below."
   ]
  },
  {
   "cell_type": "code",
   "execution_count": 58,
   "id": "0b7c1a72-b076-4cca-9c20-74ea0ab39840",
   "metadata": {},
   "outputs": [
    {
     "data": {
      "text/plain": [
       "month\n",
       "1      True\n",
       "2     False\n",
       "3     False\n",
       "4     False\n",
       "5     False\n",
       "6      True\n",
       "7     False\n",
       "8     False\n",
       "9     False\n",
       "10    False\n",
       "11    False\n",
       "12    False\n",
       "Name: dep_gt_1100, dtype: bool"
      ]
     },
     "execution_count": 58,
     "metadata": {},
     "output_type": "execute_result"
    }
   ],
   "source": [
    "flights.assign(dep_gt_1100=flights['dep_delay']>1100).groupby(['month']).dep_gt_1100.any()"
   ]
  },
  {
   "cell_type": "markdown",
   "id": "85d39a14-e65d-4db0-bf68-50330a811fad",
   "metadata": {},
   "source": [
    "Use the <b> describe() </b> method to print descriptive stastics for each group.\n",
    "Below, I used describe() on the dep_time column only, but if you exclude column name, it will compute descriptive statisics for all columns."
   ]
  },
  {
   "cell_type": "code",
   "execution_count": 59,
   "id": "139305b6-b3f7-40f6-961d-8e2bbdf9b999",
   "metadata": {},
   "outputs": [
    {
     "data": {
      "text/html": [
       "<div>\n",
       "<style scoped>\n",
       "    .dataframe tbody tr th:only-of-type {\n",
       "        vertical-align: middle;\n",
       "    }\n",
       "\n",
       "    .dataframe tbody tr th {\n",
       "        vertical-align: top;\n",
       "    }\n",
       "\n",
       "    .dataframe thead th {\n",
       "        text-align: right;\n",
       "    }\n",
       "</style>\n",
       "<table border=\"1\" class=\"dataframe\">\n",
       "  <thead>\n",
       "    <tr style=\"text-align: right;\">\n",
       "      <th></th>\n",
       "      <th></th>\n",
       "      <th></th>\n",
       "      <th>count</th>\n",
       "      <th>mean</th>\n",
       "      <th>std</th>\n",
       "      <th>min</th>\n",
       "      <th>25%</th>\n",
       "      <th>50%</th>\n",
       "      <th>75%</th>\n",
       "      <th>max</th>\n",
       "    </tr>\n",
       "    <tr>\n",
       "      <th>year</th>\n",
       "      <th>month</th>\n",
       "      <th>day</th>\n",
       "      <th></th>\n",
       "      <th></th>\n",
       "      <th></th>\n",
       "      <th></th>\n",
       "      <th></th>\n",
       "      <th></th>\n",
       "      <th></th>\n",
       "      <th></th>\n",
       "    </tr>\n",
       "  </thead>\n",
       "  <tbody>\n",
       "    <tr>\n",
       "      <th rowspan=\"3\" valign=\"top\">2013</th>\n",
       "      <th rowspan=\"3\" valign=\"top\">1</th>\n",
       "      <th>1</th>\n",
       "      <td>838.0</td>\n",
       "      <td>1384.991647</td>\n",
       "      <td>470.954331</td>\n",
       "      <td>517.0</td>\n",
       "      <td>940.25</td>\n",
       "      <td>1439.5</td>\n",
       "      <td>1756.75</td>\n",
       "      <td>2356.0</td>\n",
       "    </tr>\n",
       "    <tr>\n",
       "      <th>2</th>\n",
       "      <td>935.0</td>\n",
       "      <td>1353.960428</td>\n",
       "      <td>484.826810</td>\n",
       "      <td>42.0</td>\n",
       "      <td>912.50</td>\n",
       "      <td>1412.0</td>\n",
       "      <td>1749.50</td>\n",
       "      <td>2354.0</td>\n",
       "    </tr>\n",
       "    <tr>\n",
       "      <th>3</th>\n",
       "      <td>904.0</td>\n",
       "      <td>1356.665929</td>\n",
       "      <td>486.378120</td>\n",
       "      <td>32.0</td>\n",
       "      <td>909.00</td>\n",
       "      <td>1423.0</td>\n",
       "      <td>1755.50</td>\n",
       "      <td>2349.0</td>\n",
       "    </tr>\n",
       "  </tbody>\n",
       "</table>\n",
       "</div>"
      ],
      "text/plain": [
       "                count         mean         std    min     25%     50%  \\\n",
       "year month day                                                          \n",
       "2013 1     1    838.0  1384.991647  470.954331  517.0  940.25  1439.5   \n",
       "           2    935.0  1353.960428  484.826810   42.0  912.50  1412.0   \n",
       "           3    904.0  1356.665929  486.378120   32.0  909.00  1423.0   \n",
       "\n",
       "                    75%     max  \n",
       "year month day                   \n",
       "2013 1     1    1756.75  2356.0  \n",
       "           2    1749.50  2354.0  \n",
       "           3    1755.50  2349.0  "
      ]
     },
     "execution_count": 59,
     "metadata": {},
     "output_type": "execute_result"
    }
   ],
   "source": [
    "flights.groupby(['year','month','day']).dep_time.describe().head(n=3)"
   ]
  },
  {
   "cell_type": "markdown",
   "id": "3f1d4578-6124-40cd-b725-20a5449170b4",
   "metadata": {},
   "source": [
    "Next, we will talk about <b> Transformation </b> Functions.  Transformation Functions are functions that return the same number of rows as the original data.  We will look at the cumsum() function first.  \n",
    "Let's look at what the dep_delay column looks like first."
   ]
  },
  {
   "cell_type": "code",
   "execution_count": 60,
   "id": "7a933a37-61e9-4d8a-96a9-d796c9993c6d",
   "metadata": {},
   "outputs": [
    {
     "data": {
      "text/plain": [
       "0    2.0\n",
       "1    4.0\n",
       "2    2.0\n",
       "3   -1.0\n",
       "4   -6.0\n",
       "Name: dep_delay, dtype: float64"
      ]
     },
     "execution_count": 60,
     "metadata": {},
     "output_type": "execute_result"
    }
   ],
   "source": [
    "flights.dep_delay.head()"
   ]
  },
  {
   "cell_type": "code",
   "execution_count": 61,
   "id": "92f9ac23-3ce2-48e9-8c4d-128600ad3292",
   "metadata": {},
   "outputs": [
    {
     "data": {
      "text/plain": [
       "0     2.0\n",
       "1     6.0\n",
       "2     8.0\n",
       "3     7.0\n",
       "4     1.0\n",
       "5    -3.0\n",
       "6    -8.0\n",
       "7   -11.0\n",
       "8   -14.0\n",
       "9   -16.0\n",
       "Name: dep_delay, dtype: float64"
      ]
     },
     "execution_count": 61,
     "metadata": {},
     "output_type": "execute_result"
    }
   ],
   "source": [
    "flights.groupby(['year','month','day']).dep_delay.cumsum().head(n=10)"
   ]
  },
  {
   "cell_type": "markdown",
   "id": "e29c8ece-a090-4e9f-ae81-91946c4aa442",
   "metadata": {},
   "source": [
    "You can see below that the shape of this transformed data is the same as the original data (336776)."
   ]
  },
  {
   "cell_type": "code",
   "execution_count": 63,
   "id": "8002ab45-703d-4200-ad6d-00cc48de6b15",
   "metadata": {},
   "outputs": [
    {
     "data": {
      "text/plain": [
       "(336776,)"
      ]
     },
     "execution_count": 63,
     "metadata": {},
     "output_type": "execute_result"
    }
   ],
   "source": [
    "flights.groupby(['year','month','day']).dep_delay.cumsum().shape"
   ]
  },
  {
   "cell_type": "markdown",
   "id": "8f205a20-ed45-48cf-b81b-bdeba14ca5d2",
   "metadata": {},
   "source": [
    "Next is the <b> diff() </b> method to calculate differences between current value and previous value.\n",
    "The first value does not have a previous value, and therefore returns NULL."
   ]
  },
  {
   "cell_type": "code",
   "execution_count": 64,
   "id": "37124bd4-8032-40dc-834f-356ff564a5d7",
   "metadata": {},
   "outputs": [
    {
     "data": {
      "text/plain": [
       "0    2.0\n",
       "1    4.0\n",
       "2    2.0\n",
       "3   -1.0\n",
       "4   -6.0\n",
       "Name: dep_delay, dtype: float64"
      ]
     },
     "execution_count": 64,
     "metadata": {},
     "output_type": "execute_result"
    }
   ],
   "source": [
    "flights.dep_delay.head()"
   ]
  },
  {
   "cell_type": "code",
   "execution_count": 65,
   "id": "a9766bf4-dad0-4942-891d-87eb9b9856b8",
   "metadata": {},
   "outputs": [
    {
     "data": {
      "text/plain": [
       "0    NaN\n",
       "1    2.0\n",
       "2   -2.0\n",
       "3   -3.0\n",
       "4   -5.0\n",
       "Name: dep_delay, dtype: float64"
      ]
     },
     "execution_count": 65,
     "metadata": {},
     "output_type": "execute_result"
    }
   ],
   "source": [
    "flights.groupby(['year','month','day']).dep_delay.diff().head()"
   ]
  },
  {
   "cell_type": "markdown",
   "id": "03fef685-9867-4c6d-8595-180718734a72",
   "metadata": {},
   "source": [
    "You can control which values to subtract by using the <b> periods </b> parameter.  For example, using periods=2, it will subtract value  in position <b> n-2 </b> from position <b> n</b>."
   ]
  },
  {
   "cell_type": "code",
   "execution_count": 66,
   "id": "1300d9c1-e7b9-404e-8601-e0f44db50318",
   "metadata": {},
   "outputs": [
    {
     "data": {
      "text/plain": [
       "0    NaN\n",
       "1    NaN\n",
       "2    0.0\n",
       "3   -5.0\n",
       "4   -8.0\n",
       "Name: dep_delay, dtype: float64"
      ]
     },
     "execution_count": 66,
     "metadata": {},
     "output_type": "execute_result"
    }
   ],
   "source": [
    "flights.groupby(['year','month','day']).dep_delay.diff(periods=2).head()"
   ]
  },
  {
   "cell_type": "markdown",
   "id": "5bc13fe9-f1f1-41cf-b323-626831c90598",
   "metadata": {},
   "source": [
    "These functions (diff, cumsum) are <b> Transform Functions </b>.  There is also the <b> transform method </b>.  \n",
    "The  \"transform\" method also returns data of the <b> same length </b> as the original data.  \n",
    "\n",
    "In the example below, I use transform to return mean of each group. \n",
    "Notice though that the mean gets repeated (a single group will have just one mean).\n",
    "\n",
    "Using <b> iloc </b> I selected only columns 0,1,2, 18 and 19."
   ]
  },
  {
   "cell_type": "code",
   "execution_count": 69,
   "id": "221f61e5-a4ee-4102-8a52-3d346a4a67b5",
   "metadata": {},
   "outputs": [
    {
     "data": {
      "text/html": [
       "<div>\n",
       "<style scoped>\n",
       "    .dataframe tbody tr th:only-of-type {\n",
       "        vertical-align: middle;\n",
       "    }\n",
       "\n",
       "    .dataframe tbody tr th {\n",
       "        vertical-align: top;\n",
       "    }\n",
       "\n",
       "    .dataframe thead th {\n",
       "        text-align: right;\n",
       "    }\n",
       "</style>\n",
       "<table border=\"1\" class=\"dataframe\">\n",
       "  <thead>\n",
       "    <tr style=\"text-align: right;\">\n",
       "      <th></th>\n",
       "      <th>year</th>\n",
       "      <th>month</th>\n",
       "      <th>day</th>\n",
       "      <th>time_hour</th>\n",
       "      <th>mean_dep_delay</th>\n",
       "    </tr>\n",
       "  </thead>\n",
       "  <tbody>\n",
       "    <tr>\n",
       "      <th>1</th>\n",
       "      <td>2013</td>\n",
       "      <td>1</td>\n",
       "      <td>1</td>\n",
       "      <td>1/1/2013 5:00</td>\n",
       "      <td>11.560335</td>\n",
       "    </tr>\n",
       "    <tr>\n",
       "      <th>2</th>\n",
       "      <td>2013</td>\n",
       "      <td>1</td>\n",
       "      <td>1</td>\n",
       "      <td>1/1/2013 5:00</td>\n",
       "      <td>11.560335</td>\n",
       "    </tr>\n",
       "    <tr>\n",
       "      <th>3</th>\n",
       "      <td>2013</td>\n",
       "      <td>1</td>\n",
       "      <td>1</td>\n",
       "      <td>1/1/2013 5:00</td>\n",
       "      <td>11.560335</td>\n",
       "    </tr>\n",
       "    <tr>\n",
       "      <th>4</th>\n",
       "      <td>2013</td>\n",
       "      <td>1</td>\n",
       "      <td>1</td>\n",
       "      <td>1/1/2013 6:00</td>\n",
       "      <td>11.560335</td>\n",
       "    </tr>\n",
       "    <tr>\n",
       "      <th>5</th>\n",
       "      <td>2013</td>\n",
       "      <td>1</td>\n",
       "      <td>1</td>\n",
       "      <td>1/1/2013 5:00</td>\n",
       "      <td>11.560335</td>\n",
       "    </tr>\n",
       "  </tbody>\n",
       "</table>\n",
       "</div>"
      ],
      "text/plain": [
       "   year  month  day      time_hour  mean_dep_delay\n",
       "1  2013      1    1  1/1/2013 5:00       11.560335\n",
       "2  2013      1    1  1/1/2013 5:00       11.560335\n",
       "3  2013      1    1  1/1/2013 5:00       11.560335\n",
       "4  2013      1    1  1/1/2013 6:00       11.560335\n",
       "5  2013      1    1  1/1/2013 5:00       11.560335"
      ]
     },
     "execution_count": 69,
     "metadata": {},
     "output_type": "execute_result"
    }
   ],
   "source": [
    "flights_small=flights.iloc[1:1000,:].copy()\n",
    "flights_small['mean_dep_delay']=flights_small.groupby(['year','month','day']).dep_delay.transform(\"mean\")\n",
    "flights_small.iloc[:,[0,1,2,18,19]].head()"
   ]
  },
  {
   "cell_type": "markdown",
   "id": "490ce15d-0f61-4e31-8d6b-4bdb4ca2c98c",
   "metadata": {},
   "source": [
    "Finally, there is a <b> filter() </b> method that can be used with groupby.\n",
    "\n",
    "Let's first look at the number of rows per month."
   ]
  },
  {
   "cell_type": "code",
   "execution_count": 70,
   "id": "9d2d15a0-ccc8-410b-9c9d-ecae330c89d6",
   "metadata": {},
   "outputs": [
    {
     "data": {
      "text/plain": [
       "month\n",
       "1     27004\n",
       "2     24951\n",
       "3     28834\n",
       "4     28330\n",
       "5     28796\n",
       "6     28243\n",
       "7     29425\n",
       "8     29327\n",
       "9     27574\n",
       "10    28889\n",
       "11    27268\n",
       "12    28135\n",
       "Name: dep_delay, dtype: int64"
      ]
     },
     "execution_count": 70,
     "metadata": {},
     "output_type": "execute_result"
    }
   ],
   "source": [
    "flights.groupby(\"month\").dep_delay.size()"
   ]
  },
  {
   "cell_type": "markdown",
   "id": "8a93a6fb-e78d-4f54-83a1-52ba5b07d43b",
   "metadata": {},
   "source": [
    "You can see in the example below that only July (month=7) has count >29400.  \n",
    "\n",
    "We can use the filter method as follows.  We create an anonymous function which tests to see if a group has length >28880.  Notice that the results are all from October."
   ]
  },
  {
   "cell_type": "code",
   "execution_count": 71,
   "id": "85ff2279-0e4a-4b99-94e3-49c44ad23532",
   "metadata": {},
   "outputs": [
    {
     "data": {
      "text/html": [
       "<div>\n",
       "<style scoped>\n",
       "    .dataframe tbody tr th:only-of-type {\n",
       "        vertical-align: middle;\n",
       "    }\n",
       "\n",
       "    .dataframe tbody tr th {\n",
       "        vertical-align: top;\n",
       "    }\n",
       "\n",
       "    .dataframe thead th {\n",
       "        text-align: right;\n",
       "    }\n",
       "</style>\n",
       "<table border=\"1\" class=\"dataframe\">\n",
       "  <thead>\n",
       "    <tr style=\"text-align: right;\">\n",
       "      <th></th>\n",
       "      <th>year</th>\n",
       "      <th>month</th>\n",
       "      <th>day</th>\n",
       "      <th>dep_time</th>\n",
       "      <th>sched_dep_time</th>\n",
       "      <th>dep_delay</th>\n",
       "      <th>arr_time</th>\n",
       "      <th>sched_arr_time</th>\n",
       "      <th>arr_delay</th>\n",
       "      <th>carrier</th>\n",
       "      <th>flight</th>\n",
       "      <th>tailnum</th>\n",
       "      <th>origin</th>\n",
       "      <th>dest</th>\n",
       "      <th>air_time</th>\n",
       "      <th>distance</th>\n",
       "      <th>hour</th>\n",
       "      <th>minute</th>\n",
       "      <th>time_hour</th>\n",
       "    </tr>\n",
       "  </thead>\n",
       "  <tbody>\n",
       "    <tr>\n",
       "      <th>250450</th>\n",
       "      <td>2013</td>\n",
       "      <td>7</td>\n",
       "      <td>1</td>\n",
       "      <td>1.0</td>\n",
       "      <td>2029</td>\n",
       "      <td>212.0</td>\n",
       "      <td>236.0</td>\n",
       "      <td>2359</td>\n",
       "      <td>157.0</td>\n",
       "      <td>B6</td>\n",
       "      <td>915</td>\n",
       "      <td>N653JB</td>\n",
       "      <td>JFK</td>\n",
       "      <td>SFO</td>\n",
       "      <td>315.0</td>\n",
       "      <td>2586</td>\n",
       "      <td>20</td>\n",
       "      <td>29</td>\n",
       "      <td>7/1/2013 20:00</td>\n",
       "    </tr>\n",
       "    <tr>\n",
       "      <th>250451</th>\n",
       "      <td>2013</td>\n",
       "      <td>7</td>\n",
       "      <td>1</td>\n",
       "      <td>2.0</td>\n",
       "      <td>2359</td>\n",
       "      <td>3.0</td>\n",
       "      <td>344.0</td>\n",
       "      <td>344</td>\n",
       "      <td>0.0</td>\n",
       "      <td>B6</td>\n",
       "      <td>1503</td>\n",
       "      <td>N805JB</td>\n",
       "      <td>JFK</td>\n",
       "      <td>SJU</td>\n",
       "      <td>200.0</td>\n",
       "      <td>1598</td>\n",
       "      <td>23</td>\n",
       "      <td>59</td>\n",
       "      <td>7/1/2013 23:00</td>\n",
       "    </tr>\n",
       "    <tr>\n",
       "      <th>250452</th>\n",
       "      <td>2013</td>\n",
       "      <td>7</td>\n",
       "      <td>1</td>\n",
       "      <td>29.0</td>\n",
       "      <td>2245</td>\n",
       "      <td>104.0</td>\n",
       "      <td>151.0</td>\n",
       "      <td>1</td>\n",
       "      <td>110.0</td>\n",
       "      <td>B6</td>\n",
       "      <td>234</td>\n",
       "      <td>N348JB</td>\n",
       "      <td>JFK</td>\n",
       "      <td>BTV</td>\n",
       "      <td>66.0</td>\n",
       "      <td>266</td>\n",
       "      <td>22</td>\n",
       "      <td>45</td>\n",
       "      <td>7/1/2013 22:00</td>\n",
       "    </tr>\n",
       "    <tr>\n",
       "      <th>250453</th>\n",
       "      <td>2013</td>\n",
       "      <td>7</td>\n",
       "      <td>1</td>\n",
       "      <td>43.0</td>\n",
       "      <td>2130</td>\n",
       "      <td>193.0</td>\n",
       "      <td>322.0</td>\n",
       "      <td>14</td>\n",
       "      <td>188.0</td>\n",
       "      <td>B6</td>\n",
       "      <td>1371</td>\n",
       "      <td>N794JB</td>\n",
       "      <td>LGA</td>\n",
       "      <td>FLL</td>\n",
       "      <td>143.0</td>\n",
       "      <td>1076</td>\n",
       "      <td>21</td>\n",
       "      <td>30</td>\n",
       "      <td>7/1/2013 21:00</td>\n",
       "    </tr>\n",
       "    <tr>\n",
       "      <th>250454</th>\n",
       "      <td>2013</td>\n",
       "      <td>7</td>\n",
       "      <td>1</td>\n",
       "      <td>44.0</td>\n",
       "      <td>2150</td>\n",
       "      <td>174.0</td>\n",
       "      <td>300.0</td>\n",
       "      <td>100</td>\n",
       "      <td>120.0</td>\n",
       "      <td>AA</td>\n",
       "      <td>185</td>\n",
       "      <td>N324AA</td>\n",
       "      <td>JFK</td>\n",
       "      <td>LAX</td>\n",
       "      <td>297.0</td>\n",
       "      <td>2475</td>\n",
       "      <td>21</td>\n",
       "      <td>50</td>\n",
       "      <td>7/1/2013 21:00</td>\n",
       "    </tr>\n",
       "    <tr>\n",
       "      <th>...</th>\n",
       "      <td>...</td>\n",
       "      <td>...</td>\n",
       "      <td>...</td>\n",
       "      <td>...</td>\n",
       "      <td>...</td>\n",
       "      <td>...</td>\n",
       "      <td>...</td>\n",
       "      <td>...</td>\n",
       "      <td>...</td>\n",
       "      <td>...</td>\n",
       "      <td>...</td>\n",
       "      <td>...</td>\n",
       "      <td>...</td>\n",
       "      <td>...</td>\n",
       "      <td>...</td>\n",
       "      <td>...</td>\n",
       "      <td>...</td>\n",
       "      <td>...</td>\n",
       "      <td>...</td>\n",
       "    </tr>\n",
       "    <tr>\n",
       "      <th>279870</th>\n",
       "      <td>2013</td>\n",
       "      <td>7</td>\n",
       "      <td>31</td>\n",
       "      <td>2352.0</td>\n",
       "      <td>2245</td>\n",
       "      <td>67.0</td>\n",
       "      <td>49.0</td>\n",
       "      <td>2359</td>\n",
       "      <td>50.0</td>\n",
       "      <td>B6</td>\n",
       "      <td>1816</td>\n",
       "      <td>N296JB</td>\n",
       "      <td>JFK</td>\n",
       "      <td>SYR</td>\n",
       "      <td>40.0</td>\n",
       "      <td>209</td>\n",
       "      <td>22</td>\n",
       "      <td>45</td>\n",
       "      <td>7/31/2013 22:00</td>\n",
       "    </tr>\n",
       "    <tr>\n",
       "      <th>279871</th>\n",
       "      <td>2013</td>\n",
       "      <td>7</td>\n",
       "      <td>31</td>\n",
       "      <td>NaN</td>\n",
       "      <td>655</td>\n",
       "      <td>NaN</td>\n",
       "      <td>NaN</td>\n",
       "      <td>930</td>\n",
       "      <td>NaN</td>\n",
       "      <td>AA</td>\n",
       "      <td>711</td>\n",
       "      <td>N3BAAA</td>\n",
       "      <td>LGA</td>\n",
       "      <td>DFW</td>\n",
       "      <td>NaN</td>\n",
       "      <td>1389</td>\n",
       "      <td>6</td>\n",
       "      <td>55</td>\n",
       "      <td>7/31/2013 6:00</td>\n",
       "    </tr>\n",
       "    <tr>\n",
       "      <th>279872</th>\n",
       "      <td>2013</td>\n",
       "      <td>7</td>\n",
       "      <td>31</td>\n",
       "      <td>NaN</td>\n",
       "      <td>1400</td>\n",
       "      <td>NaN</td>\n",
       "      <td>NaN</td>\n",
       "      <td>1508</td>\n",
       "      <td>NaN</td>\n",
       "      <td>US</td>\n",
       "      <td>2130</td>\n",
       "      <td>NaN</td>\n",
       "      <td>LGA</td>\n",
       "      <td>BOS</td>\n",
       "      <td>NaN</td>\n",
       "      <td>184</td>\n",
       "      <td>14</td>\n",
       "      <td>0</td>\n",
       "      <td>7/31/2013 14:00</td>\n",
       "    </tr>\n",
       "    <tr>\n",
       "      <th>279873</th>\n",
       "      <td>2013</td>\n",
       "      <td>7</td>\n",
       "      <td>31</td>\n",
       "      <td>NaN</td>\n",
       "      <td>959</td>\n",
       "      <td>NaN</td>\n",
       "      <td>NaN</td>\n",
       "      <td>1125</td>\n",
       "      <td>NaN</td>\n",
       "      <td>UA</td>\n",
       "      <td>700</td>\n",
       "      <td>NaN</td>\n",
       "      <td>EWR</td>\n",
       "      <td>ORD</td>\n",
       "      <td>NaN</td>\n",
       "      <td>719</td>\n",
       "      <td>9</td>\n",
       "      <td>59</td>\n",
       "      <td>7/31/2013 9:00</td>\n",
       "    </tr>\n",
       "    <tr>\n",
       "      <th>279874</th>\n",
       "      <td>2013</td>\n",
       "      <td>7</td>\n",
       "      <td>31</td>\n",
       "      <td>NaN</td>\n",
       "      <td>1025</td>\n",
       "      <td>NaN</td>\n",
       "      <td>NaN</td>\n",
       "      <td>1225</td>\n",
       "      <td>NaN</td>\n",
       "      <td>MQ</td>\n",
       "      <td>3689</td>\n",
       "      <td>N535MQ</td>\n",
       "      <td>LGA</td>\n",
       "      <td>DTW</td>\n",
       "      <td>NaN</td>\n",
       "      <td>502</td>\n",
       "      <td>10</td>\n",
       "      <td>25</td>\n",
       "      <td>7/31/2013 10:00</td>\n",
       "    </tr>\n",
       "  </tbody>\n",
       "</table>\n",
       "<p>29425 rows × 19 columns</p>\n",
       "</div>"
      ],
      "text/plain": [
       "        year  month  day  dep_time  sched_dep_time  dep_delay  arr_time  \\\n",
       "250450  2013      7    1       1.0            2029      212.0     236.0   \n",
       "250451  2013      7    1       2.0            2359        3.0     344.0   \n",
       "250452  2013      7    1      29.0            2245      104.0     151.0   \n",
       "250453  2013      7    1      43.0            2130      193.0     322.0   \n",
       "250454  2013      7    1      44.0            2150      174.0     300.0   \n",
       "...      ...    ...  ...       ...             ...        ...       ...   \n",
       "279870  2013      7   31    2352.0            2245       67.0      49.0   \n",
       "279871  2013      7   31       NaN             655        NaN       NaN   \n",
       "279872  2013      7   31       NaN            1400        NaN       NaN   \n",
       "279873  2013      7   31       NaN             959        NaN       NaN   \n",
       "279874  2013      7   31       NaN            1025        NaN       NaN   \n",
       "\n",
       "        sched_arr_time  arr_delay carrier  flight tailnum origin dest  \\\n",
       "250450            2359      157.0      B6     915  N653JB    JFK  SFO   \n",
       "250451             344        0.0      B6    1503  N805JB    JFK  SJU   \n",
       "250452               1      110.0      B6     234  N348JB    JFK  BTV   \n",
       "250453              14      188.0      B6    1371  N794JB    LGA  FLL   \n",
       "250454             100      120.0      AA     185  N324AA    JFK  LAX   \n",
       "...                ...        ...     ...     ...     ...    ...  ...   \n",
       "279870            2359       50.0      B6    1816  N296JB    JFK  SYR   \n",
       "279871             930        NaN      AA     711  N3BAAA    LGA  DFW   \n",
       "279872            1508        NaN      US    2130     NaN    LGA  BOS   \n",
       "279873            1125        NaN      UA     700     NaN    EWR  ORD   \n",
       "279874            1225        NaN      MQ    3689  N535MQ    LGA  DTW   \n",
       "\n",
       "        air_time  distance  hour  minute        time_hour  \n",
       "250450     315.0      2586    20      29   7/1/2013 20:00  \n",
       "250451     200.0      1598    23      59   7/1/2013 23:00  \n",
       "250452      66.0       266    22      45   7/1/2013 22:00  \n",
       "250453     143.0      1076    21      30   7/1/2013 21:00  \n",
       "250454     297.0      2475    21      50   7/1/2013 21:00  \n",
       "...          ...       ...   ...     ...              ...  \n",
       "279870      40.0       209    22      45  7/31/2013 22:00  \n",
       "279871       NaN      1389     6      55   7/31/2013 6:00  \n",
       "279872       NaN       184    14       0  7/31/2013 14:00  \n",
       "279873       NaN       719     9      59   7/31/2013 9:00  \n",
       "279874       NaN       502    10      25  7/31/2013 10:00  \n",
       "\n",
       "[29425 rows x 19 columns]"
      ]
     },
     "execution_count": 71,
     "metadata": {},
     "output_type": "execute_result"
    }
   ],
   "source": [
    "flights.groupby(['month']).filter(lambda x:len(x['dep_delay'])>29400)"
   ]
  },
  {
   "cell_type": "markdown",
   "id": "da34174d-f318-4daf-87a4-ed967146a675",
   "metadata": {},
   "source": [
    "# <a id=\"merge\"> Merging</a>"
   ]
  },
  {
   "cell_type": "markdown",
   "id": "df157e35-8a84-438f-82a4-1d634862f55d",
   "metadata": {},
   "source": [
    "To merge multiple columns, use the <b> pd.merge() </b> function.  Alternatively, there is also the <b> join() </b> function.  \n",
    "Let's create 2 toy DataFrames first.  \n",
    "Each dataframe has 2 columns: category and value."
   ]
  },
  {
   "cell_type": "code",
   "execution_count": 72,
   "id": "e51b9008-9b5c-4ec5-bdf9-b41604626c1d",
   "metadata": {
    "tags": []
   },
   "outputs": [],
   "source": [
    "df1=pd.DataFrame({\"category1\":[\"a\",\"b\",\"c\",\"d\"],\"value\":[1,2,3,4]})"
   ]
  },
  {
   "cell_type": "code",
   "execution_count": 73,
   "id": "6f1182b8-ecc3-45f1-8f99-e1b58b02d674",
   "metadata": {},
   "outputs": [],
   "source": [
    "df2=pd.DataFrame({\"category2\":[\"a\",\"c\",\"d\",\"e\"],\"value\":[1,2,3,4]})"
   ]
  },
  {
   "cell_type": "markdown",
   "id": "a3f0f9f0-5da9-423c-9cf8-81d033ca5ff8",
   "metadata": {},
   "source": [
    "Let's look at what the DataFrames look like."
   ]
  },
  {
   "cell_type": "code",
   "execution_count": 74,
   "id": "d4f94a4d-65d6-4727-ad10-eecefe63c010",
   "metadata": {},
   "outputs": [
    {
     "data": {
      "text/html": [
       "<div>\n",
       "<style scoped>\n",
       "    .dataframe tbody tr th:only-of-type {\n",
       "        vertical-align: middle;\n",
       "    }\n",
       "\n",
       "    .dataframe tbody tr th {\n",
       "        vertical-align: top;\n",
       "    }\n",
       "\n",
       "    .dataframe thead th {\n",
       "        text-align: right;\n",
       "    }\n",
       "</style>\n",
       "<table border=\"1\" class=\"dataframe\">\n",
       "  <thead>\n",
       "    <tr style=\"text-align: right;\">\n",
       "      <th></th>\n",
       "      <th>category1</th>\n",
       "      <th>value</th>\n",
       "    </tr>\n",
       "  </thead>\n",
       "  <tbody>\n",
       "    <tr>\n",
       "      <th>0</th>\n",
       "      <td>a</td>\n",
       "      <td>1</td>\n",
       "    </tr>\n",
       "    <tr>\n",
       "      <th>1</th>\n",
       "      <td>b</td>\n",
       "      <td>2</td>\n",
       "    </tr>\n",
       "    <tr>\n",
       "      <th>2</th>\n",
       "      <td>c</td>\n",
       "      <td>3</td>\n",
       "    </tr>\n",
       "    <tr>\n",
       "      <th>3</th>\n",
       "      <td>d</td>\n",
       "      <td>4</td>\n",
       "    </tr>\n",
       "  </tbody>\n",
       "</table>\n",
       "</div>"
      ],
      "text/plain": [
       "  category1  value\n",
       "0         a      1\n",
       "1         b      2\n",
       "2         c      3\n",
       "3         d      4"
      ]
     },
     "execution_count": 74,
     "metadata": {},
     "output_type": "execute_result"
    }
   ],
   "source": [
    "df1"
   ]
  },
  {
   "cell_type": "code",
   "execution_count": 75,
   "id": "73c81ad8-2d13-4251-bb27-ad457d1c3bb7",
   "metadata": {},
   "outputs": [
    {
     "data": {
      "text/html": [
       "<div>\n",
       "<style scoped>\n",
       "    .dataframe tbody tr th:only-of-type {\n",
       "        vertical-align: middle;\n",
       "    }\n",
       "\n",
       "    .dataframe tbody tr th {\n",
       "        vertical-align: top;\n",
       "    }\n",
       "\n",
       "    .dataframe thead th {\n",
       "        text-align: right;\n",
       "    }\n",
       "</style>\n",
       "<table border=\"1\" class=\"dataframe\">\n",
       "  <thead>\n",
       "    <tr style=\"text-align: right;\">\n",
       "      <th></th>\n",
       "      <th>category2</th>\n",
       "      <th>value</th>\n",
       "    </tr>\n",
       "  </thead>\n",
       "  <tbody>\n",
       "    <tr>\n",
       "      <th>0</th>\n",
       "      <td>a</td>\n",
       "      <td>1</td>\n",
       "    </tr>\n",
       "    <tr>\n",
       "      <th>1</th>\n",
       "      <td>c</td>\n",
       "      <td>2</td>\n",
       "    </tr>\n",
       "    <tr>\n",
       "      <th>2</th>\n",
       "      <td>d</td>\n",
       "      <td>3</td>\n",
       "    </tr>\n",
       "    <tr>\n",
       "      <th>3</th>\n",
       "      <td>e</td>\n",
       "      <td>4</td>\n",
       "    </tr>\n",
       "  </tbody>\n",
       "</table>\n",
       "</div>"
      ],
      "text/plain": [
       "  category2  value\n",
       "0         a      1\n",
       "1         c      2\n",
       "2         d      3\n",
       "3         e      4"
      ]
     },
     "execution_count": 75,
     "metadata": {},
     "output_type": "execute_result"
    }
   ],
   "source": [
    "df2"
   ]
  },
  {
   "cell_type": "markdown",
   "id": "39e53a09-6622-414a-b73c-a2bd4b969f55",
   "metadata": {},
   "source": [
    "Given that the keys we want to merge have different names (category1 and category2), we need to specify these columns, using left_on and right_on.  By default, merge will add the suffix _x and _y on the columns \"value\"."
   ]
  },
  {
   "cell_type": "code",
   "execution_count": 76,
   "id": "8cb2e111-20b2-4d2c-a968-cc81675e4b59",
   "metadata": {},
   "outputs": [
    {
     "data": {
      "text/html": [
       "<div>\n",
       "<style scoped>\n",
       "    .dataframe tbody tr th:only-of-type {\n",
       "        vertical-align: middle;\n",
       "    }\n",
       "\n",
       "    .dataframe tbody tr th {\n",
       "        vertical-align: top;\n",
       "    }\n",
       "\n",
       "    .dataframe thead th {\n",
       "        text-align: right;\n",
       "    }\n",
       "</style>\n",
       "<table border=\"1\" class=\"dataframe\">\n",
       "  <thead>\n",
       "    <tr style=\"text-align: right;\">\n",
       "      <th></th>\n",
       "      <th>category1</th>\n",
       "      <th>value_x</th>\n",
       "      <th>category2</th>\n",
       "      <th>value_y</th>\n",
       "    </tr>\n",
       "  </thead>\n",
       "  <tbody>\n",
       "    <tr>\n",
       "      <th>0</th>\n",
       "      <td>a</td>\n",
       "      <td>1</td>\n",
       "      <td>a</td>\n",
       "      <td>1</td>\n",
       "    </tr>\n",
       "    <tr>\n",
       "      <th>1</th>\n",
       "      <td>c</td>\n",
       "      <td>3</td>\n",
       "      <td>c</td>\n",
       "      <td>2</td>\n",
       "    </tr>\n",
       "    <tr>\n",
       "      <th>2</th>\n",
       "      <td>d</td>\n",
       "      <td>4</td>\n",
       "      <td>d</td>\n",
       "      <td>3</td>\n",
       "    </tr>\n",
       "  </tbody>\n",
       "</table>\n",
       "</div>"
      ],
      "text/plain": [
       "  category1  value_x category2  value_y\n",
       "0         a        1         a        1\n",
       "1         c        3         c        2\n",
       "2         d        4         d        3"
      ]
     },
     "execution_count": 76,
     "metadata": {},
     "output_type": "execute_result"
    }
   ],
   "source": [
    "pd.merge(df1,df2,left_on=\"category1\",right_on=\"category2\")"
   ]
  },
  {
   "cell_type": "markdown",
   "id": "a5dc544c-ca30-4ffe-8f4f-826198ffa72e",
   "metadata": {},
   "source": [
    "We see that there are 2 category columns, and they are identical.  We can thus drop 1 and rename the other one."
   ]
  },
  {
   "cell_type": "code",
   "execution_count": 77,
   "id": "ab4d719b-c327-4216-ae96-cb42e2b3d191",
   "metadata": {},
   "outputs": [
    {
     "data": {
      "text/html": [
       "<div>\n",
       "<style scoped>\n",
       "    .dataframe tbody tr th:only-of-type {\n",
       "        vertical-align: middle;\n",
       "    }\n",
       "\n",
       "    .dataframe tbody tr th {\n",
       "        vertical-align: top;\n",
       "    }\n",
       "\n",
       "    .dataframe thead th {\n",
       "        text-align: right;\n",
       "    }\n",
       "</style>\n",
       "<table border=\"1\" class=\"dataframe\">\n",
       "  <thead>\n",
       "    <tr style=\"text-align: right;\">\n",
       "      <th></th>\n",
       "      <th>value_left</th>\n",
       "      <th>category</th>\n",
       "      <th>value_right</th>\n",
       "    </tr>\n",
       "  </thead>\n",
       "  <tbody>\n",
       "    <tr>\n",
       "      <th>0</th>\n",
       "      <td>1</td>\n",
       "      <td>a</td>\n",
       "      <td>1</td>\n",
       "    </tr>\n",
       "    <tr>\n",
       "      <th>1</th>\n",
       "      <td>3</td>\n",
       "      <td>c</td>\n",
       "      <td>2</td>\n",
       "    </tr>\n",
       "    <tr>\n",
       "      <th>2</th>\n",
       "      <td>4</td>\n",
       "      <td>d</td>\n",
       "      <td>3</td>\n",
       "    </tr>\n",
       "  </tbody>\n",
       "</table>\n",
       "</div>"
      ],
      "text/plain": [
       "   value_left category  value_right\n",
       "0           1        a            1\n",
       "1           3        c            2\n",
       "2           4        d            3"
      ]
     },
     "execution_count": 77,
     "metadata": {},
     "output_type": "execute_result"
    }
   ],
   "source": [
    "df1.merge(df2,left_on=\"category1\",right_on=\"category2\",suffixes=(\"_left\",\"_right\")).drop(\"category1\",axis=1).rename(columns={\"category2\":\"category\"})"
   ]
  },
  {
   "cell_type": "markdown",
   "id": "b8186aa0-bd8e-4173-9849-a49e075b67f3",
   "metadata": {},
   "source": [
    "By default, the merge() function performs an inner join.  Let's do a \"left\" merge.\n",
    "\n",
    "A left merge is where all of the values in the left dataframe are kept."
   ]
  },
  {
   "cell_type": "code",
   "execution_count": 78,
   "id": "3ef775d4-2ef3-437e-8844-c0b35822c330",
   "metadata": {},
   "outputs": [
    {
     "data": {
      "text/html": [
       "<div>\n",
       "<style scoped>\n",
       "    .dataframe tbody tr th:only-of-type {\n",
       "        vertical-align: middle;\n",
       "    }\n",
       "\n",
       "    .dataframe tbody tr th {\n",
       "        vertical-align: top;\n",
       "    }\n",
       "\n",
       "    .dataframe thead th {\n",
       "        text-align: right;\n",
       "    }\n",
       "</style>\n",
       "<table border=\"1\" class=\"dataframe\">\n",
       "  <thead>\n",
       "    <tr style=\"text-align: right;\">\n",
       "      <th></th>\n",
       "      <th>category1</th>\n",
       "      <th>value_x</th>\n",
       "      <th>category2</th>\n",
       "      <th>value_y</th>\n",
       "    </tr>\n",
       "  </thead>\n",
       "  <tbody>\n",
       "    <tr>\n",
       "      <th>0</th>\n",
       "      <td>a</td>\n",
       "      <td>1</td>\n",
       "      <td>a</td>\n",
       "      <td>1.0</td>\n",
       "    </tr>\n",
       "    <tr>\n",
       "      <th>1</th>\n",
       "      <td>b</td>\n",
       "      <td>2</td>\n",
       "      <td>NaN</td>\n",
       "      <td>NaN</td>\n",
       "    </tr>\n",
       "    <tr>\n",
       "      <th>2</th>\n",
       "      <td>c</td>\n",
       "      <td>3</td>\n",
       "      <td>c</td>\n",
       "      <td>2.0</td>\n",
       "    </tr>\n",
       "    <tr>\n",
       "      <th>3</th>\n",
       "      <td>d</td>\n",
       "      <td>4</td>\n",
       "      <td>d</td>\n",
       "      <td>3.0</td>\n",
       "    </tr>\n",
       "  </tbody>\n",
       "</table>\n",
       "</div>"
      ],
      "text/plain": [
       "  category1  value_x category2  value_y\n",
       "0         a        1         a      1.0\n",
       "1         b        2       NaN      NaN\n",
       "2         c        3         c      2.0\n",
       "3         d        4         d      3.0"
      ]
     },
     "execution_count": 78,
     "metadata": {},
     "output_type": "execute_result"
    }
   ],
   "source": [
    "df1.merge(df2,left_on=\"category1\",right_on=\"category2\",how=\"left\")"
   ]
  },
  {
   "cell_type": "markdown",
   "id": "9d5b1ff3-eb00-4650-b8b4-321c3fa79ca3",
   "metadata": {},
   "source": [
    "Similarly here is right join.  Here, all values in the right dataframe are preserved."
   ]
  },
  {
   "cell_type": "code",
   "execution_count": 19,
   "id": "34b59d97-c309-4188-8938-85d25394bdb8",
   "metadata": {},
   "outputs": [
    {
     "ename": "NameError",
     "evalue": "name 'df1' is not defined",
     "output_type": "error",
     "traceback": [
      "\u001b[1;31m---------------------------------------------------------------------------\u001b[0m",
      "\u001b[1;31mNameError\u001b[0m                                 Traceback (most recent call last)",
      "Cell \u001b[1;32mIn[19], line 1\u001b[0m\n\u001b[1;32m----> 1\u001b[0m \u001b[43mdf1\u001b[49m\u001b[38;5;241m.\u001b[39mmerge(df2,left_on\u001b[38;5;241m=\u001b[39m\u001b[38;5;124m\"\u001b[39m\u001b[38;5;124mcategory1\u001b[39m\u001b[38;5;124m\"\u001b[39m,right_on\u001b[38;5;241m=\u001b[39m\u001b[38;5;124m\"\u001b[39m\u001b[38;5;124mcategory2\u001b[39m\u001b[38;5;124m\"\u001b[39m,how\u001b[38;5;241m=\u001b[39m\u001b[38;5;124m\"\u001b[39m\u001b[38;5;124mright\u001b[39m\u001b[38;5;124m\"\u001b[39m)\n",
      "\u001b[1;31mNameError\u001b[0m: name 'df1' is not defined"
     ]
    }
   ],
   "source": [
    "df1.merge(df2,left_on=\"category1\",right_on=\"category2\",how=\"right\")"
   ]
  },
  {
   "cell_type": "markdown",
   "id": "4aaa1b72-3091-49e0-a5eb-713d47bd0505",
   "metadata": {},
   "source": [
    "Finally, the outer join will have all keys listed."
   ]
  },
  {
   "cell_type": "code",
   "execution_count": 80,
   "id": "184bc1c5-84f2-41b6-8b91-cf9e58bcbb87",
   "metadata": {},
   "outputs": [
    {
     "data": {
      "text/html": [
       "<div>\n",
       "<style scoped>\n",
       "    .dataframe tbody tr th:only-of-type {\n",
       "        vertical-align: middle;\n",
       "    }\n",
       "\n",
       "    .dataframe tbody tr th {\n",
       "        vertical-align: top;\n",
       "    }\n",
       "\n",
       "    .dataframe thead th {\n",
       "        text-align: right;\n",
       "    }\n",
       "</style>\n",
       "<table border=\"1\" class=\"dataframe\">\n",
       "  <thead>\n",
       "    <tr style=\"text-align: right;\">\n",
       "      <th></th>\n",
       "      <th>category1</th>\n",
       "      <th>value_x</th>\n",
       "      <th>category2</th>\n",
       "      <th>value_y</th>\n",
       "    </tr>\n",
       "  </thead>\n",
       "  <tbody>\n",
       "    <tr>\n",
       "      <th>0</th>\n",
       "      <td>a</td>\n",
       "      <td>1.0</td>\n",
       "      <td>a</td>\n",
       "      <td>1.0</td>\n",
       "    </tr>\n",
       "    <tr>\n",
       "      <th>1</th>\n",
       "      <td>b</td>\n",
       "      <td>2.0</td>\n",
       "      <td>NaN</td>\n",
       "      <td>NaN</td>\n",
       "    </tr>\n",
       "    <tr>\n",
       "      <th>2</th>\n",
       "      <td>c</td>\n",
       "      <td>3.0</td>\n",
       "      <td>c</td>\n",
       "      <td>2.0</td>\n",
       "    </tr>\n",
       "    <tr>\n",
       "      <th>3</th>\n",
       "      <td>d</td>\n",
       "      <td>4.0</td>\n",
       "      <td>d</td>\n",
       "      <td>3.0</td>\n",
       "    </tr>\n",
       "    <tr>\n",
       "      <th>4</th>\n",
       "      <td>NaN</td>\n",
       "      <td>NaN</td>\n",
       "      <td>e</td>\n",
       "      <td>4.0</td>\n",
       "    </tr>\n",
       "  </tbody>\n",
       "</table>\n",
       "</div>"
      ],
      "text/plain": [
       "  category1  value_x category2  value_y\n",
       "0         a      1.0         a      1.0\n",
       "1         b      2.0       NaN      NaN\n",
       "2         c      3.0         c      2.0\n",
       "3         d      4.0         d      3.0\n",
       "4       NaN      NaN         e      4.0"
      ]
     },
     "execution_count": 80,
     "metadata": {},
     "output_type": "execute_result"
    }
   ],
   "source": [
    "df1.merge(df2,left_on=\"category1\",right_on=\"category2\",how=\"outer\")"
   ]
  },
  {
   "cell_type": "markdown",
   "id": "c760b6ff-3d97-4ebe-a7c8-4d1409e1d5e1",
   "metadata": {},
   "source": [
    "There is also the \"join\" function that has the same capability as merge. \n"
   ]
  },
  {
   "cell_type": "code",
   "execution_count": 81,
   "id": "736d0518-2c03-4abe-b40e-6eb91bb17fdc",
   "metadata": {},
   "outputs": [
    {
     "data": {
      "text/html": [
       "<div>\n",
       "<style scoped>\n",
       "    .dataframe tbody tr th:only-of-type {\n",
       "        vertical-align: middle;\n",
       "    }\n",
       "\n",
       "    .dataframe tbody tr th {\n",
       "        vertical-align: top;\n",
       "    }\n",
       "\n",
       "    .dataframe thead th {\n",
       "        text-align: right;\n",
       "    }\n",
       "</style>\n",
       "<table border=\"1\" class=\"dataframe\">\n",
       "  <thead>\n",
       "    <tr style=\"text-align: right;\">\n",
       "      <th></th>\n",
       "      <th>category1</th>\n",
       "      <th>value_left</th>\n",
       "      <th>value_right</th>\n",
       "    </tr>\n",
       "  </thead>\n",
       "  <tbody>\n",
       "    <tr>\n",
       "      <th>0.0</th>\n",
       "      <td>a</td>\n",
       "      <td>1.0</td>\n",
       "      <td>1.0</td>\n",
       "    </tr>\n",
       "    <tr>\n",
       "      <th>1.0</th>\n",
       "      <td>b</td>\n",
       "      <td>2.0</td>\n",
       "      <td>NaN</td>\n",
       "    </tr>\n",
       "    <tr>\n",
       "      <th>2.0</th>\n",
       "      <td>c</td>\n",
       "      <td>3.0</td>\n",
       "      <td>2.0</td>\n",
       "    </tr>\n",
       "    <tr>\n",
       "      <th>3.0</th>\n",
       "      <td>d</td>\n",
       "      <td>4.0</td>\n",
       "      <td>3.0</td>\n",
       "    </tr>\n",
       "    <tr>\n",
       "      <th>NaN</th>\n",
       "      <td>e</td>\n",
       "      <td>NaN</td>\n",
       "      <td>4.0</td>\n",
       "    </tr>\n",
       "  </tbody>\n",
       "</table>\n",
       "</div>"
      ],
      "text/plain": [
       "    category1  value_left  value_right\n",
       "0.0         a         1.0          1.0\n",
       "1.0         b         2.0          NaN\n",
       "2.0         c         3.0          2.0\n",
       "3.0         d         4.0          3.0\n",
       "NaN         e         NaN          4.0"
      ]
     },
     "execution_count": 81,
     "metadata": {},
     "output_type": "execute_result"
    }
   ],
   "source": [
    "df1.join(df2.set_index(\"category2\"),lsuffix=\"_left\",rsuffix=\"_right\",on=\"category1\",how=\"outer\")"
   ]
  },
  {
   "cell_type": "markdown",
   "id": "1499fd58-490a-4eac-bc93-7b923c4203b3",
   "metadata": {},
   "source": [
    "You can read more about Joins in the documentation below:\n",
    "\n",
    "https://pandas.pydata.org/pandas-docs/stable/reference/api/pandas.DataFrame.join.html"
   ]
  },
  {
   "cell_type": "markdown",
   "id": "d5f86db3-99a3-4446-854a-82d04e28eb6b",
   "metadata": {},
   "source": [
    "Now let's rename the category1 and category2 columns.  We will set inplace=True so that the dataframe itself is modified."
   ]
  },
  {
   "cell_type": "code",
   "execution_count": 82,
   "id": "08acaf71-3d61-45c2-ad94-c0aa84f7f0a4",
   "metadata": {
    "tags": []
   },
   "outputs": [],
   "source": [
    "df1.rename(columns={\"category1\":\"category\"},inplace=True)"
   ]
  },
  {
   "cell_type": "code",
   "execution_count": 83,
   "id": "5c646e9d-5be4-48f3-838f-d2c45786230c",
   "metadata": {},
   "outputs": [],
   "source": [
    "df2.rename(columns={\"category2\":\"category\"},inplace=True)"
   ]
  },
  {
   "cell_type": "code",
   "execution_count": 84,
   "id": "54ff979b-ccd5-4e5b-8ffa-f714937af81d",
   "metadata": {},
   "outputs": [
    {
     "data": {
      "text/html": [
       "<div>\n",
       "<style scoped>\n",
       "    .dataframe tbody tr th:only-of-type {\n",
       "        vertical-align: middle;\n",
       "    }\n",
       "\n",
       "    .dataframe tbody tr th {\n",
       "        vertical-align: top;\n",
       "    }\n",
       "\n",
       "    .dataframe thead th {\n",
       "        text-align: right;\n",
       "    }\n",
       "</style>\n",
       "<table border=\"1\" class=\"dataframe\">\n",
       "  <thead>\n",
       "    <tr style=\"text-align: right;\">\n",
       "      <th></th>\n",
       "      <th>category</th>\n",
       "      <th>value</th>\n",
       "    </tr>\n",
       "  </thead>\n",
       "  <tbody>\n",
       "    <tr>\n",
       "      <th>0</th>\n",
       "      <td>a</td>\n",
       "      <td>1</td>\n",
       "    </tr>\n",
       "    <tr>\n",
       "      <th>1</th>\n",
       "      <td>b</td>\n",
       "      <td>2</td>\n",
       "    </tr>\n",
       "    <tr>\n",
       "      <th>2</th>\n",
       "      <td>c</td>\n",
       "      <td>3</td>\n",
       "    </tr>\n",
       "    <tr>\n",
       "      <th>3</th>\n",
       "      <td>d</td>\n",
       "      <td>4</td>\n",
       "    </tr>\n",
       "  </tbody>\n",
       "</table>\n",
       "</div>"
      ],
      "text/plain": [
       "  category  value\n",
       "0        a      1\n",
       "1        b      2\n",
       "2        c      3\n",
       "3        d      4"
      ]
     },
     "execution_count": 84,
     "metadata": {},
     "output_type": "execute_result"
    }
   ],
   "source": [
    "df1.head()"
   ]
  },
  {
   "cell_type": "code",
   "execution_count": 85,
   "id": "d0d0df01-4c97-415f-828a-6dda105f326f",
   "metadata": {},
   "outputs": [
    {
     "data": {
      "text/html": [
       "<div>\n",
       "<style scoped>\n",
       "    .dataframe tbody tr th:only-of-type {\n",
       "        vertical-align: middle;\n",
       "    }\n",
       "\n",
       "    .dataframe tbody tr th {\n",
       "        vertical-align: top;\n",
       "    }\n",
       "\n",
       "    .dataframe thead th {\n",
       "        text-align: right;\n",
       "    }\n",
       "</style>\n",
       "<table border=\"1\" class=\"dataframe\">\n",
       "  <thead>\n",
       "    <tr style=\"text-align: right;\">\n",
       "      <th></th>\n",
       "      <th>category</th>\n",
       "      <th>value</th>\n",
       "    </tr>\n",
       "  </thead>\n",
       "  <tbody>\n",
       "    <tr>\n",
       "      <th>0</th>\n",
       "      <td>a</td>\n",
       "      <td>1</td>\n",
       "    </tr>\n",
       "    <tr>\n",
       "      <th>1</th>\n",
       "      <td>c</td>\n",
       "      <td>2</td>\n",
       "    </tr>\n",
       "    <tr>\n",
       "      <th>2</th>\n",
       "      <td>d</td>\n",
       "      <td>3</td>\n",
       "    </tr>\n",
       "    <tr>\n",
       "      <th>3</th>\n",
       "      <td>e</td>\n",
       "      <td>4</td>\n",
       "    </tr>\n",
       "  </tbody>\n",
       "</table>\n",
       "</div>"
      ],
      "text/plain": [
       "  category  value\n",
       "0        a      1\n",
       "1        c      2\n",
       "2        d      3\n",
       "3        e      4"
      ]
     },
     "execution_count": 85,
     "metadata": {},
     "output_type": "execute_result"
    }
   ],
   "source": [
    "df2.head()"
   ]
  },
  {
   "cell_type": "markdown",
   "id": "e40ca5e5-623a-46d7-9376-f33ebf2087cd",
   "metadata": {},
   "source": [
    "Both df1 and df2 now have the same column names.\n",
    "\n",
    "If you want to concatenate 2 dataframes, you can use <b> pd.concat()</b>.  By default, it will perform a rowbind."
   ]
  },
  {
   "cell_type": "code",
   "execution_count": 86,
   "id": "c73fa7f8-78fc-42e8-96d9-1a5dbe8b5c47",
   "metadata": {},
   "outputs": [
    {
     "data": {
      "text/html": [
       "<div>\n",
       "<style scoped>\n",
       "    .dataframe tbody tr th:only-of-type {\n",
       "        vertical-align: middle;\n",
       "    }\n",
       "\n",
       "    .dataframe tbody tr th {\n",
       "        vertical-align: top;\n",
       "    }\n",
       "\n",
       "    .dataframe thead th {\n",
       "        text-align: right;\n",
       "    }\n",
       "</style>\n",
       "<table border=\"1\" class=\"dataframe\">\n",
       "  <thead>\n",
       "    <tr style=\"text-align: right;\">\n",
       "      <th></th>\n",
       "      <th>category</th>\n",
       "      <th>value</th>\n",
       "    </tr>\n",
       "  </thead>\n",
       "  <tbody>\n",
       "    <tr>\n",
       "      <th>0</th>\n",
       "      <td>a</td>\n",
       "      <td>1</td>\n",
       "    </tr>\n",
       "    <tr>\n",
       "      <th>1</th>\n",
       "      <td>b</td>\n",
       "      <td>2</td>\n",
       "    </tr>\n",
       "    <tr>\n",
       "      <th>2</th>\n",
       "      <td>c</td>\n",
       "      <td>3</td>\n",
       "    </tr>\n",
       "    <tr>\n",
       "      <th>3</th>\n",
       "      <td>d</td>\n",
       "      <td>4</td>\n",
       "    </tr>\n",
       "    <tr>\n",
       "      <th>0</th>\n",
       "      <td>a</td>\n",
       "      <td>1</td>\n",
       "    </tr>\n",
       "    <tr>\n",
       "      <th>1</th>\n",
       "      <td>c</td>\n",
       "      <td>2</td>\n",
       "    </tr>\n",
       "    <tr>\n",
       "      <th>2</th>\n",
       "      <td>d</td>\n",
       "      <td>3</td>\n",
       "    </tr>\n",
       "    <tr>\n",
       "      <th>3</th>\n",
       "      <td>e</td>\n",
       "      <td>4</td>\n",
       "    </tr>\n",
       "  </tbody>\n",
       "</table>\n",
       "</div>"
      ],
      "text/plain": [
       "  category  value\n",
       "0        a      1\n",
       "1        b      2\n",
       "2        c      3\n",
       "3        d      4\n",
       "0        a      1\n",
       "1        c      2\n",
       "2        d      3\n",
       "3        e      4"
      ]
     },
     "execution_count": 86,
     "metadata": {},
     "output_type": "execute_result"
    }
   ],
   "source": [
    "pd.concat([df1,df2])"
   ]
  },
  {
   "cell_type": "markdown",
   "id": "885a49f0",
   "metadata": {},
   "source": [
    "# <a id=\"axis\">  About the \"axis\" parameter in various pandas methods.</a>"
   ]
  },
  {
   "cell_type": "markdown",
   "id": "2bd5900a",
   "metadata": {},
   "source": [
    "You will notice that many different functions give you the \"axis\" parameter.\n",
    "If you want to compute by <b> row</b>, you use <b> axis=0</b>, while if you want to compute by <b>column</b> you use <b> axis=1 </b>.\n",
    "As you will notice below, axis=0 concatenates by row (as in rbind in R)."
   ]
  },
  {
   "cell_type": "code",
   "execution_count": 87,
   "id": "07a0ef3e-3443-48cd-8118-29760165a04f",
   "metadata": {},
   "outputs": [
    {
     "data": {
      "text/html": [
       "<div>\n",
       "<style scoped>\n",
       "    .dataframe tbody tr th:only-of-type {\n",
       "        vertical-align: middle;\n",
       "    }\n",
       "\n",
       "    .dataframe tbody tr th {\n",
       "        vertical-align: top;\n",
       "    }\n",
       "\n",
       "    .dataframe thead th {\n",
       "        text-align: right;\n",
       "    }\n",
       "</style>\n",
       "<table border=\"1\" class=\"dataframe\">\n",
       "  <thead>\n",
       "    <tr style=\"text-align: right;\">\n",
       "      <th></th>\n",
       "      <th>category</th>\n",
       "      <th>value</th>\n",
       "    </tr>\n",
       "  </thead>\n",
       "  <tbody>\n",
       "    <tr>\n",
       "      <th>0</th>\n",
       "      <td>a</td>\n",
       "      <td>1</td>\n",
       "    </tr>\n",
       "    <tr>\n",
       "      <th>1</th>\n",
       "      <td>b</td>\n",
       "      <td>2</td>\n",
       "    </tr>\n",
       "    <tr>\n",
       "      <th>2</th>\n",
       "      <td>c</td>\n",
       "      <td>3</td>\n",
       "    </tr>\n",
       "    <tr>\n",
       "      <th>3</th>\n",
       "      <td>d</td>\n",
       "      <td>4</td>\n",
       "    </tr>\n",
       "    <tr>\n",
       "      <th>0</th>\n",
       "      <td>a</td>\n",
       "      <td>1</td>\n",
       "    </tr>\n",
       "    <tr>\n",
       "      <th>1</th>\n",
       "      <td>c</td>\n",
       "      <td>2</td>\n",
       "    </tr>\n",
       "    <tr>\n",
       "      <th>2</th>\n",
       "      <td>d</td>\n",
       "      <td>3</td>\n",
       "    </tr>\n",
       "    <tr>\n",
       "      <th>3</th>\n",
       "      <td>e</td>\n",
       "      <td>4</td>\n",
       "    </tr>\n",
       "  </tbody>\n",
       "</table>\n",
       "</div>"
      ],
      "text/plain": [
       "  category  value\n",
       "0        a      1\n",
       "1        b      2\n",
       "2        c      3\n",
       "3        d      4\n",
       "0        a      1\n",
       "1        c      2\n",
       "2        d      3\n",
       "3        e      4"
      ]
     },
     "execution_count": 87,
     "metadata": {},
     "output_type": "execute_result"
    }
   ],
   "source": [
    "pd.concat([df1,df2],axis=0)"
   ]
  },
  {
   "cell_type": "markdown",
   "id": "d1c1c7d2-3983-4587-a17b-df2ca7babe37",
   "metadata": {},
   "source": [
    "If you want to concatenate by columns, use axis=1. This is like R's <b> cbind </b>\n",
    "Here I added 3 dataframe to the list (df2 repeated deliberately) to show that you can concatenate multiple dataframe."
   ]
  },
  {
   "cell_type": "code",
   "execution_count": 91,
   "id": "d21a0391-4b91-4331-b1d8-6741eec87bb9",
   "metadata": {},
   "outputs": [
    {
     "data": {
      "text/html": [
       "<div>\n",
       "<style scoped>\n",
       "    .dataframe tbody tr th:only-of-type {\n",
       "        vertical-align: middle;\n",
       "    }\n",
       "\n",
       "    .dataframe tbody tr th {\n",
       "        vertical-align: top;\n",
       "    }\n",
       "\n",
       "    .dataframe thead th {\n",
       "        text-align: right;\n",
       "    }\n",
       "</style>\n",
       "<table border=\"1\" class=\"dataframe\">\n",
       "  <thead>\n",
       "    <tr style=\"text-align: right;\">\n",
       "      <th></th>\n",
       "      <th>category</th>\n",
       "      <th>value</th>\n",
       "      <th>category</th>\n",
       "      <th>value</th>\n",
       "      <th>category</th>\n",
       "      <th>value</th>\n",
       "    </tr>\n",
       "  </thead>\n",
       "  <tbody>\n",
       "    <tr>\n",
       "      <th>0</th>\n",
       "      <td>a</td>\n",
       "      <td>1</td>\n",
       "      <td>a</td>\n",
       "      <td>1</td>\n",
       "      <td>a</td>\n",
       "      <td>1</td>\n",
       "    </tr>\n",
       "    <tr>\n",
       "      <th>1</th>\n",
       "      <td>b</td>\n",
       "      <td>2</td>\n",
       "      <td>c</td>\n",
       "      <td>2</td>\n",
       "      <td>c</td>\n",
       "      <td>2</td>\n",
       "    </tr>\n",
       "    <tr>\n",
       "      <th>2</th>\n",
       "      <td>c</td>\n",
       "      <td>3</td>\n",
       "      <td>d</td>\n",
       "      <td>3</td>\n",
       "      <td>d</td>\n",
       "      <td>3</td>\n",
       "    </tr>\n",
       "    <tr>\n",
       "      <th>3</th>\n",
       "      <td>d</td>\n",
       "      <td>4</td>\n",
       "      <td>e</td>\n",
       "      <td>4</td>\n",
       "      <td>e</td>\n",
       "      <td>4</td>\n",
       "    </tr>\n",
       "  </tbody>\n",
       "</table>\n",
       "</div>"
      ],
      "text/plain": [
       "  category  value category  value category  value\n",
       "0        a      1        a      1        a      1\n",
       "1        b      2        c      2        c      2\n",
       "2        c      3        d      3        d      3\n",
       "3        d      4        e      4        e      4"
      ]
     },
     "execution_count": 91,
     "metadata": {},
     "output_type": "execute_result"
    }
   ],
   "source": [
    "pd.concat([df1,df2,df2],axis=1)"
   ]
  },
  {
   "cell_type": "markdown",
   "id": "a6d02d92",
   "metadata": {},
   "source": [
    "Now let's select numeric data types using the select_dtypes command. This is in order to perform some calculations.\n",
    "\n",
    "This can be done by using the <b> select_dtypes </b> method."
   ]
  },
  {
   "cell_type": "code",
   "execution_count": 92,
   "id": "d8933fb5-9184-4b35-a1a2-57d333a12500",
   "metadata": {},
   "outputs": [],
   "source": [
    "flights_numeric=flights.select_dtypes(['int64','float64']).copy()"
   ]
  },
  {
   "cell_type": "code",
   "execution_count": 93,
   "id": "c4f0b3be",
   "metadata": {},
   "outputs": [
    {
     "data": {
      "text/plain": [
       "(336776, 14)"
      ]
     },
     "execution_count": 93,
     "metadata": {},
     "output_type": "execute_result"
    }
   ],
   "source": [
    "flights_numeric.shape"
   ]
  },
  {
   "cell_type": "markdown",
   "id": "1f5c1a43-a058-4b3d-8bd9-13d271a5cb2d",
   "metadata": {},
   "source": [
    "Let's take the mean of the flights_numeric dataset by modifying the row axis."
   ]
  },
  {
   "cell_type": "code",
   "execution_count": 94,
   "id": "c57696e0",
   "metadata": {},
   "outputs": [
    {
     "data": {
      "text/plain": [
       "year              2013.000000\n",
       "month                6.548510\n",
       "day                 15.710787\n",
       "dep_time          1349.109947\n",
       "sched_dep_time    1344.254840\n",
       "dep_delay           12.639070\n",
       "arr_time          1502.054999\n",
       "sched_arr_time    1536.380220\n",
       "arr_delay            6.895377\n",
       "flight            1971.923620\n",
       "air_time           150.686460\n",
       "distance          1039.912604\n",
       "hour                13.180247\n",
       "minute              26.230100\n",
       "dtype: float64"
      ]
     },
     "execution_count": 94,
     "metadata": {},
     "output_type": "execute_result"
    }
   ],
   "source": [
    "flights_numeric.mean(axis=0)"
   ]
  },
  {
   "cell_type": "markdown",
   "id": "43ce365b",
   "metadata": {},
   "source": [
    "The axis=0 parameter returned the average of each column.\n",
    "The way to think of this is as follows.  \n",
    "We have a dataframe with dimension (336776,19).\n",
    "The axis=0 parameter will work on the row and basically return a Series dataset, with a 1x19 Dimension.  In other words, the row has been changed, but the columns is the same."
   ]
  },
  {
   "cell_type": "markdown",
   "id": "33e492fd",
   "metadata": {},
   "source": [
    "To calculate mean of each row (or the rowmean), you use axis=1."
   ]
  },
  {
   "cell_type": "code",
   "execution_count": 95,
   "id": "d3104cfe",
   "metadata": {},
   "outputs": [
    {
     "data": {
      "text/plain": [
       "(336776,)"
      ]
     },
     "execution_count": 95,
     "metadata": {},
     "output_type": "execute_result"
    }
   ],
   "source": [
    "flights_numeric.mean(axis=1).shape"
   ]
  },
  {
   "cell_type": "markdown",
   "id": "08d92d46",
   "metadata": {},
   "source": [
    "Let's quickly look at the shape of the flights_numeric."
   ]
  },
  {
   "cell_type": "code",
   "execution_count": 96,
   "id": "6d656573",
   "metadata": {},
   "outputs": [
    {
     "data": {
      "text/plain": [
       "(336776, 14)"
      ]
     },
     "execution_count": 96,
     "metadata": {},
     "output_type": "execute_result"
    }
   ],
   "source": [
    "flights_numeric.shape"
   ]
  },
  {
   "cell_type": "markdown",
   "id": "1bb7a579-c17c-4743-9974-314c4a17b5fb",
   "metadata": {},
   "source": [
    "Note that the rows match."
   ]
  },
  {
   "cell_type": "markdown",
   "id": "11bc7649",
   "metadata": {},
   "source": [
    "Similarly, drop() with axis set to 1 will reduce the column by one."
   ]
  },
  {
   "cell_type": "code",
   "execution_count": 97,
   "id": "19dca74f",
   "metadata": {},
   "outputs": [],
   "source": [
    "flights_numeric.drop(['month'],axis=1,inplace=True)"
   ]
  },
  {
   "cell_type": "code",
   "execution_count": 98,
   "id": "705df3ed",
   "metadata": {},
   "outputs": [
    {
     "data": {
      "text/plain": [
       "(336776, 13)"
      ]
     },
     "execution_count": 98,
     "metadata": {},
     "output_type": "execute_result"
    }
   ],
   "source": [
    "flights_numeric.shape"
   ]
  },
  {
   "cell_type": "markdown",
   "id": "5895bb25-70e7-4291-b919-85c62fcbb57c",
   "metadata": {},
   "source": [
    "Notice that the \"month\" column is not there anymore.  We removed it using drop()."
   ]
  },
  {
   "cell_type": "code",
   "execution_count": 99,
   "id": "df118d66",
   "metadata": {},
   "outputs": [
    {
     "data": {
      "text/html": [
       "<div>\n",
       "<style scoped>\n",
       "    .dataframe tbody tr th:only-of-type {\n",
       "        vertical-align: middle;\n",
       "    }\n",
       "\n",
       "    .dataframe tbody tr th {\n",
       "        vertical-align: top;\n",
       "    }\n",
       "\n",
       "    .dataframe thead th {\n",
       "        text-align: right;\n",
       "    }\n",
       "</style>\n",
       "<table border=\"1\" class=\"dataframe\">\n",
       "  <thead>\n",
       "    <tr style=\"text-align: right;\">\n",
       "      <th></th>\n",
       "      <th>year</th>\n",
       "      <th>day</th>\n",
       "      <th>dep_time</th>\n",
       "      <th>sched_dep_time</th>\n",
       "      <th>dep_delay</th>\n",
       "      <th>arr_time</th>\n",
       "      <th>sched_arr_time</th>\n",
       "      <th>arr_delay</th>\n",
       "      <th>flight</th>\n",
       "      <th>air_time</th>\n",
       "      <th>distance</th>\n",
       "      <th>hour</th>\n",
       "      <th>minute</th>\n",
       "    </tr>\n",
       "  </thead>\n",
       "  <tbody>\n",
       "    <tr>\n",
       "      <th>0</th>\n",
       "      <td>2013</td>\n",
       "      <td>1</td>\n",
       "      <td>517.0</td>\n",
       "      <td>515</td>\n",
       "      <td>2.0</td>\n",
       "      <td>830.0</td>\n",
       "      <td>819</td>\n",
       "      <td>11.0</td>\n",
       "      <td>1545</td>\n",
       "      <td>227.0</td>\n",
       "      <td>1400</td>\n",
       "      <td>5</td>\n",
       "      <td>15</td>\n",
       "    </tr>\n",
       "    <tr>\n",
       "      <th>1</th>\n",
       "      <td>2013</td>\n",
       "      <td>1</td>\n",
       "      <td>533.0</td>\n",
       "      <td>529</td>\n",
       "      <td>4.0</td>\n",
       "      <td>850.0</td>\n",
       "      <td>830</td>\n",
       "      <td>20.0</td>\n",
       "      <td>1714</td>\n",
       "      <td>227.0</td>\n",
       "      <td>1416</td>\n",
       "      <td>5</td>\n",
       "      <td>29</td>\n",
       "    </tr>\n",
       "    <tr>\n",
       "      <th>2</th>\n",
       "      <td>2013</td>\n",
       "      <td>1</td>\n",
       "      <td>542.0</td>\n",
       "      <td>540</td>\n",
       "      <td>2.0</td>\n",
       "      <td>923.0</td>\n",
       "      <td>850</td>\n",
       "      <td>33.0</td>\n",
       "      <td>1141</td>\n",
       "      <td>160.0</td>\n",
       "      <td>1089</td>\n",
       "      <td>5</td>\n",
       "      <td>40</td>\n",
       "    </tr>\n",
       "    <tr>\n",
       "      <th>3</th>\n",
       "      <td>2013</td>\n",
       "      <td>1</td>\n",
       "      <td>544.0</td>\n",
       "      <td>545</td>\n",
       "      <td>-1.0</td>\n",
       "      <td>1004.0</td>\n",
       "      <td>1022</td>\n",
       "      <td>-18.0</td>\n",
       "      <td>725</td>\n",
       "      <td>183.0</td>\n",
       "      <td>1576</td>\n",
       "      <td>5</td>\n",
       "      <td>45</td>\n",
       "    </tr>\n",
       "    <tr>\n",
       "      <th>4</th>\n",
       "      <td>2013</td>\n",
       "      <td>1</td>\n",
       "      <td>554.0</td>\n",
       "      <td>600</td>\n",
       "      <td>-6.0</td>\n",
       "      <td>812.0</td>\n",
       "      <td>837</td>\n",
       "      <td>-25.0</td>\n",
       "      <td>461</td>\n",
       "      <td>116.0</td>\n",
       "      <td>762</td>\n",
       "      <td>6</td>\n",
       "      <td>0</td>\n",
       "    </tr>\n",
       "  </tbody>\n",
       "</table>\n",
       "</div>"
      ],
      "text/plain": [
       "   year  day  dep_time  sched_dep_time  dep_delay  arr_time  sched_arr_time  \\\n",
       "0  2013    1     517.0             515        2.0     830.0             819   \n",
       "1  2013    1     533.0             529        4.0     850.0             830   \n",
       "2  2013    1     542.0             540        2.0     923.0             850   \n",
       "3  2013    1     544.0             545       -1.0    1004.0            1022   \n",
       "4  2013    1     554.0             600       -6.0     812.0             837   \n",
       "\n",
       "   arr_delay  flight  air_time  distance  hour  minute  \n",
       "0       11.0    1545     227.0      1400     5      15  \n",
       "1       20.0    1714     227.0      1416     5      29  \n",
       "2       33.0    1141     160.0      1089     5      40  \n",
       "3      -18.0     725     183.0      1576     5      45  \n",
       "4      -25.0     461     116.0       762     6       0  "
      ]
     },
     "execution_count": 99,
     "metadata": {},
     "output_type": "execute_result"
    }
   ],
   "source": [
    "flights_numeric.head()"
   ]
  },
  {
   "cell_type": "markdown",
   "id": "2f830cb2",
   "metadata": {},
   "source": [
    "How about dropping a row?  It is simple as specifying the index."
   ]
  },
  {
   "cell_type": "code",
   "execution_count": 100,
   "id": "c6e5afe7",
   "metadata": {},
   "outputs": [
    {
     "data": {
      "text/html": [
       "<div>\n",
       "<style scoped>\n",
       "    .dataframe tbody tr th:only-of-type {\n",
       "        vertical-align: middle;\n",
       "    }\n",
       "\n",
       "    .dataframe tbody tr th {\n",
       "        vertical-align: top;\n",
       "    }\n",
       "\n",
       "    .dataframe thead th {\n",
       "        text-align: right;\n",
       "    }\n",
       "</style>\n",
       "<table border=\"1\" class=\"dataframe\">\n",
       "  <thead>\n",
       "    <tr style=\"text-align: right;\">\n",
       "      <th></th>\n",
       "      <th>year</th>\n",
       "      <th>day</th>\n",
       "      <th>dep_time</th>\n",
       "      <th>sched_dep_time</th>\n",
       "      <th>dep_delay</th>\n",
       "      <th>arr_time</th>\n",
       "      <th>sched_arr_time</th>\n",
       "      <th>arr_delay</th>\n",
       "      <th>flight</th>\n",
       "      <th>air_time</th>\n",
       "      <th>distance</th>\n",
       "      <th>hour</th>\n",
       "      <th>minute</th>\n",
       "    </tr>\n",
       "  </thead>\n",
       "  <tbody>\n",
       "    <tr>\n",
       "      <th>1</th>\n",
       "      <td>2013</td>\n",
       "      <td>1</td>\n",
       "      <td>533.0</td>\n",
       "      <td>529</td>\n",
       "      <td>4.0</td>\n",
       "      <td>850.0</td>\n",
       "      <td>830</td>\n",
       "      <td>20.0</td>\n",
       "      <td>1714</td>\n",
       "      <td>227.0</td>\n",
       "      <td>1416</td>\n",
       "      <td>5</td>\n",
       "      <td>29</td>\n",
       "    </tr>\n",
       "    <tr>\n",
       "      <th>2</th>\n",
       "      <td>2013</td>\n",
       "      <td>1</td>\n",
       "      <td>542.0</td>\n",
       "      <td>540</td>\n",
       "      <td>2.0</td>\n",
       "      <td>923.0</td>\n",
       "      <td>850</td>\n",
       "      <td>33.0</td>\n",
       "      <td>1141</td>\n",
       "      <td>160.0</td>\n",
       "      <td>1089</td>\n",
       "      <td>5</td>\n",
       "      <td>40</td>\n",
       "    </tr>\n",
       "    <tr>\n",
       "      <th>3</th>\n",
       "      <td>2013</td>\n",
       "      <td>1</td>\n",
       "      <td>544.0</td>\n",
       "      <td>545</td>\n",
       "      <td>-1.0</td>\n",
       "      <td>1004.0</td>\n",
       "      <td>1022</td>\n",
       "      <td>-18.0</td>\n",
       "      <td>725</td>\n",
       "      <td>183.0</td>\n",
       "      <td>1576</td>\n",
       "      <td>5</td>\n",
       "      <td>45</td>\n",
       "    </tr>\n",
       "    <tr>\n",
       "      <th>4</th>\n",
       "      <td>2013</td>\n",
       "      <td>1</td>\n",
       "      <td>554.0</td>\n",
       "      <td>600</td>\n",
       "      <td>-6.0</td>\n",
       "      <td>812.0</td>\n",
       "      <td>837</td>\n",
       "      <td>-25.0</td>\n",
       "      <td>461</td>\n",
       "      <td>116.0</td>\n",
       "      <td>762</td>\n",
       "      <td>6</td>\n",
       "      <td>0</td>\n",
       "    </tr>\n",
       "    <tr>\n",
       "      <th>5</th>\n",
       "      <td>2013</td>\n",
       "      <td>1</td>\n",
       "      <td>554.0</td>\n",
       "      <td>558</td>\n",
       "      <td>-4.0</td>\n",
       "      <td>740.0</td>\n",
       "      <td>728</td>\n",
       "      <td>12.0</td>\n",
       "      <td>1696</td>\n",
       "      <td>150.0</td>\n",
       "      <td>719</td>\n",
       "      <td>5</td>\n",
       "      <td>58</td>\n",
       "    </tr>\n",
       "    <tr>\n",
       "      <th>...</th>\n",
       "      <td>...</td>\n",
       "      <td>...</td>\n",
       "      <td>...</td>\n",
       "      <td>...</td>\n",
       "      <td>...</td>\n",
       "      <td>...</td>\n",
       "      <td>...</td>\n",
       "      <td>...</td>\n",
       "      <td>...</td>\n",
       "      <td>...</td>\n",
       "      <td>...</td>\n",
       "      <td>...</td>\n",
       "      <td>...</td>\n",
       "    </tr>\n",
       "    <tr>\n",
       "      <th>336771</th>\n",
       "      <td>2013</td>\n",
       "      <td>30</td>\n",
       "      <td>NaN</td>\n",
       "      <td>1455</td>\n",
       "      <td>NaN</td>\n",
       "      <td>NaN</td>\n",
       "      <td>1634</td>\n",
       "      <td>NaN</td>\n",
       "      <td>3393</td>\n",
       "      <td>NaN</td>\n",
       "      <td>213</td>\n",
       "      <td>14</td>\n",
       "      <td>55</td>\n",
       "    </tr>\n",
       "    <tr>\n",
       "      <th>336772</th>\n",
       "      <td>2013</td>\n",
       "      <td>30</td>\n",
       "      <td>NaN</td>\n",
       "      <td>2200</td>\n",
       "      <td>NaN</td>\n",
       "      <td>NaN</td>\n",
       "      <td>2312</td>\n",
       "      <td>NaN</td>\n",
       "      <td>3525</td>\n",
       "      <td>NaN</td>\n",
       "      <td>198</td>\n",
       "      <td>22</td>\n",
       "      <td>0</td>\n",
       "    </tr>\n",
       "    <tr>\n",
       "      <th>336773</th>\n",
       "      <td>2013</td>\n",
       "      <td>30</td>\n",
       "      <td>NaN</td>\n",
       "      <td>1210</td>\n",
       "      <td>NaN</td>\n",
       "      <td>NaN</td>\n",
       "      <td>1330</td>\n",
       "      <td>NaN</td>\n",
       "      <td>3461</td>\n",
       "      <td>NaN</td>\n",
       "      <td>764</td>\n",
       "      <td>12</td>\n",
       "      <td>10</td>\n",
       "    </tr>\n",
       "    <tr>\n",
       "      <th>336774</th>\n",
       "      <td>2013</td>\n",
       "      <td>30</td>\n",
       "      <td>NaN</td>\n",
       "      <td>1159</td>\n",
       "      <td>NaN</td>\n",
       "      <td>NaN</td>\n",
       "      <td>1344</td>\n",
       "      <td>NaN</td>\n",
       "      <td>3572</td>\n",
       "      <td>NaN</td>\n",
       "      <td>419</td>\n",
       "      <td>11</td>\n",
       "      <td>59</td>\n",
       "    </tr>\n",
       "    <tr>\n",
       "      <th>336775</th>\n",
       "      <td>2013</td>\n",
       "      <td>30</td>\n",
       "      <td>NaN</td>\n",
       "      <td>840</td>\n",
       "      <td>NaN</td>\n",
       "      <td>NaN</td>\n",
       "      <td>1020</td>\n",
       "      <td>NaN</td>\n",
       "      <td>3531</td>\n",
       "      <td>NaN</td>\n",
       "      <td>431</td>\n",
       "      <td>8</td>\n",
       "      <td>40</td>\n",
       "    </tr>\n",
       "  </tbody>\n",
       "</table>\n",
       "<p>336775 rows × 13 columns</p>\n",
       "</div>"
      ],
      "text/plain": [
       "        year  day  dep_time  sched_dep_time  dep_delay  arr_time  \\\n",
       "1       2013    1     533.0             529        4.0     850.0   \n",
       "2       2013    1     542.0             540        2.0     923.0   \n",
       "3       2013    1     544.0             545       -1.0    1004.0   \n",
       "4       2013    1     554.0             600       -6.0     812.0   \n",
       "5       2013    1     554.0             558       -4.0     740.0   \n",
       "...      ...  ...       ...             ...        ...       ...   \n",
       "336771  2013   30       NaN            1455        NaN       NaN   \n",
       "336772  2013   30       NaN            2200        NaN       NaN   \n",
       "336773  2013   30       NaN            1210        NaN       NaN   \n",
       "336774  2013   30       NaN            1159        NaN       NaN   \n",
       "336775  2013   30       NaN             840        NaN       NaN   \n",
       "\n",
       "        sched_arr_time  arr_delay  flight  air_time  distance  hour  minute  \n",
       "1                  830       20.0    1714     227.0      1416     5      29  \n",
       "2                  850       33.0    1141     160.0      1089     5      40  \n",
       "3                 1022      -18.0     725     183.0      1576     5      45  \n",
       "4                  837      -25.0     461     116.0       762     6       0  \n",
       "5                  728       12.0    1696     150.0       719     5      58  \n",
       "...                ...        ...     ...       ...       ...   ...     ...  \n",
       "336771            1634        NaN    3393       NaN       213    14      55  \n",
       "336772            2312        NaN    3525       NaN       198    22       0  \n",
       "336773            1330        NaN    3461       NaN       764    12      10  \n",
       "336774            1344        NaN    3572       NaN       419    11      59  \n",
       "336775            1020        NaN    3531       NaN       431     8      40  \n",
       "\n",
       "[336775 rows x 13 columns]"
      ]
     },
     "execution_count": 100,
     "metadata": {},
     "output_type": "execute_result"
    }
   ],
   "source": [
    "flights_numeric.drop(0,axis=0)"
   ]
  },
  {
   "cell_type": "markdown",
   "id": "beae8f21",
   "metadata": {},
   "source": [
    "You can specify the axis with rename() as well. Axis=1 will rename a column."
   ]
  },
  {
   "cell_type": "code",
   "execution_count": 101,
   "id": "00822c72",
   "metadata": {},
   "outputs": [
    {
     "data": {
      "text/html": [
       "<div>\n",
       "<style scoped>\n",
       "    .dataframe tbody tr th:only-of-type {\n",
       "        vertical-align: middle;\n",
       "    }\n",
       "\n",
       "    .dataframe tbody tr th {\n",
       "        vertical-align: top;\n",
       "    }\n",
       "\n",
       "    .dataframe thead th {\n",
       "        text-align: right;\n",
       "    }\n",
       "</style>\n",
       "<table border=\"1\" class=\"dataframe\">\n",
       "  <thead>\n",
       "    <tr style=\"text-align: right;\">\n",
       "      <th></th>\n",
       "      <th>year</th>\n",
       "      <th>day</th>\n",
       "      <th>departure_time</th>\n",
       "      <th>sched_dep_time</th>\n",
       "      <th>dep_delay</th>\n",
       "      <th>arr_time</th>\n",
       "      <th>sched_arr_time</th>\n",
       "      <th>arr_delay</th>\n",
       "      <th>flight</th>\n",
       "      <th>air_time</th>\n",
       "      <th>distance</th>\n",
       "      <th>hour</th>\n",
       "      <th>minute</th>\n",
       "    </tr>\n",
       "  </thead>\n",
       "  <tbody>\n",
       "    <tr>\n",
       "      <th>0</th>\n",
       "      <td>2013</td>\n",
       "      <td>1</td>\n",
       "      <td>517.0</td>\n",
       "      <td>515</td>\n",
       "      <td>2.0</td>\n",
       "      <td>830.0</td>\n",
       "      <td>819</td>\n",
       "      <td>11.0</td>\n",
       "      <td>1545</td>\n",
       "      <td>227.0</td>\n",
       "      <td>1400</td>\n",
       "      <td>5</td>\n",
       "      <td>15</td>\n",
       "    </tr>\n",
       "    <tr>\n",
       "      <th>1</th>\n",
       "      <td>2013</td>\n",
       "      <td>1</td>\n",
       "      <td>533.0</td>\n",
       "      <td>529</td>\n",
       "      <td>4.0</td>\n",
       "      <td>850.0</td>\n",
       "      <td>830</td>\n",
       "      <td>20.0</td>\n",
       "      <td>1714</td>\n",
       "      <td>227.0</td>\n",
       "      <td>1416</td>\n",
       "      <td>5</td>\n",
       "      <td>29</td>\n",
       "    </tr>\n",
       "  </tbody>\n",
       "</table>\n",
       "</div>"
      ],
      "text/plain": [
       "   year  day  departure_time  sched_dep_time  dep_delay  arr_time  \\\n",
       "0  2013    1           517.0             515        2.0     830.0   \n",
       "1  2013    1           533.0             529        4.0     850.0   \n",
       "\n",
       "   sched_arr_time  arr_delay  flight  air_time  distance  hour  minute  \n",
       "0             819       11.0    1545     227.0      1400     5      15  \n",
       "1             830       20.0    1714     227.0      1416     5      29  "
      ]
     },
     "execution_count": 101,
     "metadata": {},
     "output_type": "execute_result"
    }
   ],
   "source": [
    "flights_numeric.rename({\"dep_time\":\"departure_time\"},axis=1).head(2)"
   ]
  },
  {
   "cell_type": "markdown",
   "id": "b42c8f68",
   "metadata": {},
   "source": [
    "Similarly, using axis=0 allows you to rename the index label."
   ]
  },
  {
   "cell_type": "code",
   "execution_count": 102,
   "id": "112affb0",
   "metadata": {},
   "outputs": [
    {
     "data": {
      "text/html": [
       "<div>\n",
       "<style scoped>\n",
       "    .dataframe tbody tr th:only-of-type {\n",
       "        vertical-align: middle;\n",
       "    }\n",
       "\n",
       "    .dataframe tbody tr th {\n",
       "        vertical-align: top;\n",
       "    }\n",
       "\n",
       "    .dataframe thead th {\n",
       "        text-align: right;\n",
       "    }\n",
       "</style>\n",
       "<table border=\"1\" class=\"dataframe\">\n",
       "  <thead>\n",
       "    <tr style=\"text-align: right;\">\n",
       "      <th></th>\n",
       "      <th>year</th>\n",
       "      <th>day</th>\n",
       "      <th>dep_time</th>\n",
       "      <th>sched_dep_time</th>\n",
       "      <th>dep_delay</th>\n",
       "      <th>arr_time</th>\n",
       "      <th>sched_arr_time</th>\n",
       "      <th>arr_delay</th>\n",
       "      <th>flight</th>\n",
       "      <th>air_time</th>\n",
       "      <th>distance</th>\n",
       "      <th>hour</th>\n",
       "      <th>minute</th>\n",
       "    </tr>\n",
       "  </thead>\n",
       "  <tbody>\n",
       "    <tr>\n",
       "      <th>Zero</th>\n",
       "      <td>2013</td>\n",
       "      <td>1</td>\n",
       "      <td>517.0</td>\n",
       "      <td>515</td>\n",
       "      <td>2.0</td>\n",
       "      <td>830.0</td>\n",
       "      <td>819</td>\n",
       "      <td>11.0</td>\n",
       "      <td>1545</td>\n",
       "      <td>227.0</td>\n",
       "      <td>1400</td>\n",
       "      <td>5</td>\n",
       "      <td>15</td>\n",
       "    </tr>\n",
       "    <tr>\n",
       "      <th>1</th>\n",
       "      <td>2013</td>\n",
       "      <td>1</td>\n",
       "      <td>533.0</td>\n",
       "      <td>529</td>\n",
       "      <td>4.0</td>\n",
       "      <td>850.0</td>\n",
       "      <td>830</td>\n",
       "      <td>20.0</td>\n",
       "      <td>1714</td>\n",
       "      <td>227.0</td>\n",
       "      <td>1416</td>\n",
       "      <td>5</td>\n",
       "      <td>29</td>\n",
       "    </tr>\n",
       "  </tbody>\n",
       "</table>\n",
       "</div>"
      ],
      "text/plain": [
       "      year  day  dep_time  sched_dep_time  dep_delay  arr_time  \\\n",
       "Zero  2013    1     517.0             515        2.0     830.0   \n",
       "1     2013    1     533.0             529        4.0     850.0   \n",
       "\n",
       "      sched_arr_time  arr_delay  flight  air_time  distance  hour  minute  \n",
       "Zero             819       11.0    1545     227.0      1400     5      15  \n",
       "1                830       20.0    1714     227.0      1416     5      29  "
      ]
     },
     "execution_count": 102,
     "metadata": {},
     "output_type": "execute_result"
    }
   ],
   "source": [
    "flights_numeric.rename({0:\"Zero\"},axis=0).head(2)"
   ]
  },
  {
   "cell_type": "code",
   "execution_count": null,
   "id": "3ea5bc3a-f500-4f81-b7ed-68b3c327e6eb",
   "metadata": {},
   "outputs": [],
   "source": []
  }
 ],
 "metadata": {
  "kernelspec": {
   "display_name": "Python 3 (ipykernel)",
   "language": "python",
   "name": "python3"
  },
  "language_info": {
   "codemirror_mode": {
    "name": "ipython",
    "version": 3
   },
   "file_extension": ".py",
   "mimetype": "text/x-python",
   "name": "python",
   "nbconvert_exporter": "python",
   "pygments_lexer": "ipython3",
   "version": "3.10.9"
  }
 },
 "nbformat": 4,
 "nbformat_minor": 5
}
